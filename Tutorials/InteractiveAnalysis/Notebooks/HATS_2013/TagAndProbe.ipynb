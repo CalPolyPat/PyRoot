{
 "metadata": {
  "name": ""
 },
 "nbformat": 3,
 "nbformat_minor": 0,
 "worksheets": [
  {
   "cells": [
    {
     "cell_type": "heading",
     "level": 1,
     "metadata": {},
     "source": [
      "Tag and Probe"
     ]
    },
    {
     "cell_type": "markdown",
     "metadata": {},
     "source": [
      "This exercise will show how to do an efficiency measurement using the tag and probe method.\n",
      "\n",
      "The data has been processed and saved in tree for easier use. The code of the simple tree producer is available:\n",
      "\n",
      "https://github.com/demattia/usercode/tree/master/DisplacedVertex/Analysis/TagAndProbe\n",
      "\n",
      "The tree contains globalMuons (called \"muons\"), generalTracks (called \"tracks\"), collections of trigger objects for each filter. These collections are called hlt\\*. To see them, after having loaded the event in the event loop at least once, write event.hlt and hit TAB."
     ]
    },
    {
     "cell_type": "code",
     "collapsed": false,
     "input": [
      "import ROOT\n",
      "from utils import *\n",
      "import rootnotes\n",
      "import rootprint\n",
      "from ROOT import RooRealVar, RooFormulaVar, RooVoigtian, RooChebychev, RooArgList, RooArgSet, \\\n",
      "    RooAddPdf, RooDataSet, RooCategory, RooSimultaneous, RooGenericPdf, RooGaussian, RooWorkspace"
     ],
     "language": "python",
     "metadata": {},
     "outputs": [],
     "prompt_number": 1
    },
    {
     "cell_type": "markdown",
     "metadata": {},
     "source": [
      "This loads the definition of the classes for the objects stored in the tree."
     ]
    },
    {
     "cell_type": "code",
     "collapsed": false,
     "input": [
      "ROOT.gROOT.LoadMacro(\"Loader.C+\")"
     ],
     "language": "python",
     "metadata": {},
     "outputs": [
      {
       "metadata": {},
       "output_type": "pyout",
       "prompt_number": 2,
       "text": [
        "0"
       ]
      }
     ],
     "prompt_number": 2
    },
    {
     "cell_type": "markdown",
     "metadata": {},
     "source": [
      "Some utility functions and a class to pass parameters to functions. Uncomment and run the next cell to see the functions.\n",
      "\n",
      "In particular, we define the selection for tracks and muons. The most important cuts are:\n",
      "\n",
      "- $p_T$ > 26 GeV\n",
      "- |$\\eta$| < 2\n",
      "- Track based isolation: $\\frac{\\sum_i p_T(i)}{p_T}$ < 0.1\n",
      "- at least 6 tracker layers with measurements"
     ]
    },
    {
     "cell_type": "code",
     "collapsed": false,
     "input": [
      "# print open(\"utils.py\").read()"
     ],
     "language": "python",
     "metadata": {},
     "outputs": [],
     "prompt_number": 3
    },
    {
     "cell_type": "markdown",
     "metadata": {},
     "source": [
      "Function to build the workspace containing the pdfs to be used for the simultaneous fit of all probes and probes passing the trigger."
     ]
    },
    {
     "cell_type": "code",
     "collapsed": false,
     "input": [
      "def buildPdf(ws, p):\n",
      "\n",
      "    mass = RooRealVar(\"mass\", \"mass\", p.minMass, p.maxMass)\n",
      "    getattr(ws,'import')(mass)\n",
      "\n",
      "    # Construct signal pdf\n",
      "    mean = RooRealVar(\"mean\", \"mean\", 90, 85, 95)\n",
      "    width = RooRealVar(\"width\", \"width\", 2.4952, 1, 3)\n",
      "    width.setConstant(ROOT.kTRUE)\n",
      "    sigma = RooRealVar(\"sigma\", \"sigma\", 1.2, 0.2, 10)\n",
      "    signalAll = RooVoigtian(\"signalAll\", \"signalAll\", mass, mean, width, sigma)\n",
      "\n",
      "    # Construct background pdf\n",
      "    turnOnAll = RooRealVar(\"turnOnAll\",\"turnOnAll\", 80., 40., 150.)\n",
      "    widthAll_bkg = RooRealVar(\"widthAll\",\"widthAll\", 2., 0., 50.)\n",
      "    decayAll_bkg = RooRealVar(\"decayAll\",\"decayAll\", 80., 20., 150.)\n",
      "    meanB = RooRealVar(\"meanB\", \"meanB\", 90, 60, 130)\n",
      "    sigmaB = RooRealVar(\"sigmaB\", \"sigmaB\", 10, 1, 20)\n",
      "    bkg_a1 = RooRealVar(\"bkg_a1\", \"bkg_a1\", 0., -2., 2.)\n",
      "    bkg_a2 = RooRealVar(\"bkg_a2\", \"bkg_a2\", 0., -2., 2.)\n",
      "    backgroundAll = RooGaussian(\"backgroundAll\", \"backgroundAll\", mass, meanB, sigmaB)\n",
      "\n",
      "    # Construct composite pdf\n",
      "    sigAll = RooRealVar(\"sigAll\", \"sigAll\", 2000, 0, 100000)\n",
      "    bkgAll = RooRealVar(\"bkgAll\", \"bkgAll\", 100, 0, 10000)\n",
      "    modelAll = RooAddPdf(\"modelAll\", \"modelAll\", RooArgList(signalAll, backgroundAll), RooArgList(sigAll, bkgAll))\n",
      "    if p.NoBkgd:\n",
      "        modelAll = RooAddPdf(\"modelAll\", \"modelAll\", RooArgList(signalAll), RooArgList(sigAll))\n",
      "    # Define pdf for all probes\n",
      "\n",
      "    # Construct signal pdf.\n",
      "    # NOTE that sigma is shared with the signal sample model\n",
      "    signalPass = RooVoigtian(\"signalPass\",\"signalPass\",mass,mean,width,sigma)\n",
      "    # Construct the background pdf\n",
      "    backgroundPass = RooGaussian(\"backgroundPass\", \"backgroundPass\", mass, meanB, sigmaB)\n",
      "\n",
      "    # Construct the composite model\n",
      "    efficiency = RooRealVar(\"efficiency\",\"efficiency\",0.9,0.3,1.)\n",
      "    sigPass = RooFormulaVar(\"sigPass\", \"@0*@1\", RooArgList(sigAll, efficiency))\n",
      "    bkgPass = RooRealVar(\"bkgPass\", \"bkgPass\", 100, 0, 10000)\n",
      "    modelPass = RooAddPdf(\"modelPass\", \"modelPass\", RooArgList(signalPass, backgroundPass), RooArgList(sigPass, bkgPass))\n",
      "    if p.NoBkgd:\n",
      "        modelPass = RooAddPdf(\"modelPass\", \"modelPass\", RooArgList(signalPass), RooArgList(sigPass))\n",
      "\n",
      "    frac = RooRealVar(\"frac\", \"frac\", 0.8, 0., 1.)\n",
      "\n",
      "    # Define combined pdf for simultaneous fit\n",
      "\n",
      "    # Define category to distinguish physics and control samples events\n",
      "    sample = RooCategory(\"sample\",\"sample\")\n",
      "    sample.defineType(\"all\")\n",
      "    sample.defineType(\"pass\")\n",
      "\n",
      "    simPdf = RooSimultaneous(\"simPdf\",\"simultaneous pdf\",sample)\n",
      "\n",
      "    # Associate model with the physics state and model_ctl with the control state\n",
      "    simPdf.addPdf(modelAll,\"all\")\n",
      "    simPdf.addPdf(modelPass,\"pass\")\n",
      "    # ws.import(simPdf)\n",
      "    getattr(ws,'import')(simPdf)"
     ],
     "language": "python",
     "metadata": {},
     "outputs": [],
     "prompt_number": 4
    },
    {
     "cell_type": "markdown",
     "metadata": {},
     "source": [
      "Define the triggers to use and load the input tree"
     ]
    },
    {
     "cell_type": "code",
     "collapsed": false,
     "input": [
      "# Triggers for tag and for probe\n",
      "tagTrigger = \"IsoMu24\"\n",
      "probeTrigger = \"HLT_L2DoubleMu23_NoVertex_v\"\n",
      "\n",
      "# Define cuts and some useful variables\n",
      "triggerMatchDeltaR = 0.1\n",
      "minMass = 80\n",
      "maxMass = 100\n",
      "minDeltaR = 0.2\n",
      "\n",
      "# --------#\n",
      "\n",
      "MC = True\n",
      "NoBkgd = True\n",
      "\n",
      "# --------#"
     ],
     "language": "python",
     "metadata": {},
     "outputs": [],
     "prompt_number": 5
    },
    {
     "cell_type": "heading",
     "level": 3,
     "metadata": {},
     "source": [
      "Event loop to fill histograms and datasets"
     ]
    },
    {
     "cell_type": "markdown",
     "metadata": {},
     "source": [
      "We want to perform a simultaneous fit of all probes and passing probes to extract the number of Z candidates. This allows us to get an estimate of the real muons passing the trigger.\n",
      "\n",
      "We therefore fill a RooDataset for each bin. We will use it later in the fitting section."
     ]
    },
    {
     "cell_type": "code",
     "collapsed": false,
     "input": [
      "# %%rootprint\n",
      "\n",
      "# Load the input file\n",
      "tree = ROOT.TChain(\"T\")\n",
      "tree.Add(\"/afs/cern.ch/user/d/demattia/public/Z_mumu_MC_tag_and_probe.root\")\n",
      "\n",
      "\n",
      "# Define binning\n",
      "ptBinsTag = [20, 10000]\n",
      "ptBinsProbe = [26, 30, 35, 40, 45, 50, 60, 70]\n",
      "\n",
      "\n",
      "p = Properties(minMass, maxMass, ptBinsTag, ptBinsProbe, triggerMatchDeltaR, NoBkgd, minDeltaR)\n",
      "\n",
      "# Prepare the workspace\n",
      "ws = RooWorkspace(\"ws\", \"workspace\")\n",
      "buildPdf(ws, p)\n",
      "\n",
      "mass = ws.var(\"mass\")\n",
      "sample = ws.cat(\"sample\")\n",
      "simPdf = ws.pdf(\"simPdf\")\n",
      "efficiency = ws.var(\"efficiency\")\n",
      "meanB = ws.var(\"meanB\")\n",
      "\n",
      "# Prepare datasets and histograms\n",
      "datasetAllMap = {}\n",
      "datasetPassMap = {}\n",
      "hAllMap = {}\n",
      "hPassMap = {}\n",
      "for ptBin1 in range(0, len(ptBinsTag)):\n",
      "    for ptBin2 in range(0, len(ptBinsProbe)):\n",
      "        datasetAllMap[(ptBin1, ptBin2)] = RooDataSet(buildName(\"datasetAll_\", ptBin1, ptBin2, ptBinsTag, ptBinsProbe),\n",
      "                                                     buildName(\"datasetAll_\", ptBin1, ptBin2, ptBinsTag, ptBinsProbe),\n",
      "                                                     RooArgSet(mass))\n",
      "        datasetPassMap[(ptBin1, ptBin2)] = RooDataSet(buildName(\"datasetPass_\", ptBin1, ptBin2, ptBinsTag, ptBinsProbe),\n",
      "                                                      buildName(\"datasetPass_\", ptBin1, ptBin2, ptBinsTag, ptBinsProbe),\n",
      "                                                      RooArgSet(mass))\n",
      "        hAllMap[(ptBin1,ptBin2)] = ROOT.TH1F(buildName(\"hAll_\", ptBin1, ptBin2, ptBinsTag, ptBinsProbe),\n",
      "                                             buildName(\"All probes\", ptBin1, ptBin2, ptBinsTag, ptBinsProbe),\n",
      "                                             100, minMass, maxMass)\n",
      "        hPassMap[(ptBin1,ptBin2)] = ROOT.TH1F(buildName(\"hPass_\", ptBin1, ptBin2, ptBinsTag, ptBinsProbe),\n",
      "                                              buildName(\"Passing probes\", ptBin1, ptBin2, ptBinsTag, ptBinsProbe),\n",
      "                                              100, minMass, maxMass)\n",
      "\n",
      "\n",
      "\n",
      "# Event loop\n",
      "allCandidates = 0\n",
      "passCandidates = 0\n",
      "\n",
      "processedEvents = 0\n",
      "\n",
      "totEvents = 100000\n",
      "#totEvents = tree.GetEntries()\n",
      "progress = 0\n",
      "\n",
      "for event in tree:\n",
      "    if processedEvents > totEvents:\n",
      "        break\n",
      "    processedEvents += 1\n",
      "    \n",
      "    # Get the trigger outcome for this event\n",
      "    tagTriggerFired = False\n",
      "    probeTriggerFired = False\n",
      "    for name in event.triggerNames:\n",
      "        if name.find(tagTrigger) != -1:\n",
      "            tagTriggerFired = True\n",
      "    # If none of the two triggers fired we can skip the event\n",
      "    if not tagTriggerFired:\n",
      "        continue\n",
      "\n",
      "    # IsoMu24 filter name\n",
      "    tagTriggerObjects = event.hltL3crIsoL1sMu16L1f0L2f16QL3f24QL3crIsoRhoFiltered0p15Objects\n",
      "    # DoubelMu23NoVertex filter name\n",
      "    probeTriggerObjects = event.hltL2DoubleMu23NoVertexL2PreFilteredObjects\n",
      "\n",
      "    matchedMuonsTagTrigger = []\n",
      "    passingMuonsProbe = []\n",
      "    allMuonsProbe = []\n",
      "    \n",
      "    # Find tag muons\n",
      "    for tagMuon in event.muons:\n",
      "        # Find a matching trigger object in DeltaR\n",
      "        fillTriggerMatchedGlobalMuon(tagMuon, tagTriggerObjects, matchedMuonsTagTrigger, p)\n",
      "\n",
      "    for probeMuon in event.tracks:\n",
      "        # Find a matching trigger object in DeltaR\n",
      "        if passSelection(probeMuon):\n",
      "            fillTriggerMatchedTrack(probeMuon, probeTriggerObjects, passingMuonsProbe, p)\n",
      "            allMuonsProbe.append(probeMuon)\n",
      "\n",
      "    # Fill datasets and histograms\n",
      "    fillCandidates_tnp(mass, p, matchedMuonsTagTrigger, passingMuonsProbe, hPassMap, datasetPassMap)\n",
      "    fillCandidates_tnp(mass, p, matchedMuonsTagTrigger, allMuonsProbe, hAllMap, datasetAllMap)\n",
      "\n",
      "\n",
      "print \"total analyzed events =\", totEvents"
     ],
     "language": "python",
     "metadata": {},
     "outputs": [
      {
       "output_type": "stream",
       "stream": "stdout",
       "text": [
        "total analyzed events = 100000\n"
       ]
      }
     ],
     "prompt_number": 9
    },
    {
     "cell_type": "heading",
     "level": 3,
     "metadata": {},
     "source": [
      "Simultaneous fits to extract the efficiencies"
     ]
    },
    {
     "cell_type": "markdown",
     "metadata": {},
     "source": [
      "By performing a simultaneous fit and extracting the ratio passing/all probes directly as a parameter we let the fit take care of the correlations and obtain the result with a better estimate of the error."
     ]
    },
    {
     "cell_type": "markdown",
     "metadata": {},
     "source": [
      "First, some control plots before the fits"
     ]
    },
    {
     "cell_type": "code",
     "collapsed": false,
     "input": [
      "print \"Note: you can expand the figure dragging the border on the lower right\\n\"\n",
      "\n",
      "canvas = rootnotes.canvas(\"AllAndPassCanvas\", (1000, 800))\n",
      "# canvas.Divide(len(ptBinsTag)-1, len(ptBinsProbe))\n",
      "canvas.Divide(4,2)\n",
      "for ptBin1 in range(0, len(ptBinsTag)-1):\n",
      "    for ptBin2 in range(0, len(ptBinsProbe)):\n",
      "        canvas.cd(find_position_NoOverflow(ptBin1, ptBin2, ptBinsTag)+1)\n",
      "        hAllMap[(ptBin1, ptBin2)].Draw()\n",
      "        hPassMap[(ptBin1, ptBin2)].Draw(\"same\")\n",
      "        hPassMap[(ptBin1, ptBin2)].SetLineColor(2)\n",
      "\n",
      "# canvas.Print(\"AllAndPassCanvas.pdf\")\n",
      "canvas"
     ],
     "language": "python",
     "metadata": {},
     "outputs": [],
     "prompt_number": 25
    },
    {
     "cell_type": "markdown",
     "metadata": {},
     "source": [
      "Utility function to save the fit results to local files. By saving the results to local files we have two advantages:\n",
      "\n",
      "1. We separate the time consuming part from the plotting part. We will draw the histograms in canvases in a subsequent cell.\n",
      "2. We can change the binning and repeat a subset of the fits. Only the interested files will be replaced. In this way we can fix any failed fit without having to rerun all of them."
     ]
    },
    {
     "cell_type": "code",
     "collapsed": false,
     "input": [
      "# Plot the fit results\n",
      "def simultaneousFit(ptBin1, ptBin2, combData):\n",
      "    #, canvas2, canvas3):\n",
      "    frame1 = mass.frame(ROOT.RooFit.Bins(30),ROOT.RooFit.Title(\"All events\"))\n",
      "    # Plot all data tagged as physics sample\n",
      "    combData.plotOn(frame1,ROOT.RooFit.Cut(\"sample==sample::all\"))\n",
      "    # Plot \"physics\" slice of simultaneous pdf.\n",
      "    # NBL You _must_ project the sample index category with data using ProjWData\n",
      "    # as a RooSimultaneous makes no prediction on the shape in the index category\n",
      "    # and can thus not be integrated\n",
      "    simPdf.plotOn(frame1, ROOT.RooFit.Slice(sample,\"all\"), ROOT.RooFit.ProjWData(RooArgSet(sample),combData))\n",
      "    simPdf.plotOn(frame1, ROOT.RooFit.Slice(sample,\"all\"), ROOT.RooFit.Components(\"backgroundAll\"),\n",
      "                  ROOT.RooFit.ProjWData(RooArgSet(sample),combData), ROOT.RooFit.LineStyle(ROOT.kDashed))\n",
      "\n",
      "    # The same plot for the control sample slice\n",
      "    frame2 = mass.frame(ROOT.RooFit.Bins(30),ROOT.RooFit.Title(\"Passing events\"))\n",
      "    combData.plotOn(frame2,ROOT.RooFit.Cut(\"sample==sample::pass\"))\n",
      "    simPdf.plotOn(frame2,ROOT.RooFit.Slice(sample,\"pass\"),ROOT.RooFit.ProjWData(RooArgSet(sample),combData))\n",
      "    simPdf.plotOn(frame2,ROOT.RooFit.Slice(sample,\"pass\"),ROOT.RooFit.Components(\"backgroundPass\"),\n",
      "                  ROOT.RooFit.ProjWData(RooArgSet(sample),combData),ROOT.RooFit.LineStyle(ROOT.kDashed))\n",
      "\n",
      "    frame1.GetYaxis().SetTitleOffset(1.4)\n",
      "    frame1.Draw()\n",
      "    frame1.SetName(buildNamePars(\"fitAll_\", ptBin1, ptBin1+1, ptBin2, ptBin2+1, ptBinsTag, ptBinsProbe))\n",
      "    frame1.SaveAs(buildNamePars(\"fitAll_\", ptBin1, ptBin1+1, ptBin2, ptBin2+1, ptBinsTag, ptBinsProbe)+\".root\")\n",
      "\n",
      "    frame2.GetYaxis().SetTitleOffset(1.4)\n",
      "    frame2.Draw()\n",
      "    frame2.SetName(buildNamePars(\"fitPass_\", ptBin1, ptBin1+1, ptBin2, ptBin2+1, ptBinsTag, ptBinsProbe))\n",
      "    frame2.SaveAs(buildNamePars(\"fitPass_\", ptBin1, ptBin1+1, ptBin2, ptBin2+1, ptBinsTag, ptBinsProbe)+\".root\")\n"
     ],
     "language": "python",
     "metadata": {},
     "outputs": [],
     "prompt_number": 11
    },
    {
     "cell_type": "markdown",
     "metadata": {},
     "source": [
      "Perform the simultaneous fit to all probes and passing probes to extract the efficiency and fill the plots using the function above"
     ]
    },
    {
     "cell_type": "code",
     "collapsed": false,
     "input": [
      "# Build the combined dataset\n",
      "combDataMap = {}\n",
      "frMap = {}\n",
      "\n",
      "from array import array\n",
      "hEff = ROOT.TH2D(\"hEff\", \"hEff\", len(ptBinsTag)-1, array('d',ptBinsTag), len(ptBinsProbe)-1, array('d',ptBinsProbe))\n",
      "hEff1D = ROOT.TH1D(\"hEff1D\", \"hEff1D\", len(ptBinsTag)-1, array('d',ptBinsTag))\n",
      "\n",
      "# Construct combined dataset in (x,sample) and perform simultaneous fit\n",
      "# Skip the last, overflow, bin from fitting to save time. It does not appear in the final plots.\n",
      "# Note that the following code assumes an extra bin to build the name of the output file.\n",
      "for ptBin1 in range(0, len(ptBinsTag)-1):\n",
      "    for ptBin2 in range(0, len(ptBinsProbe)-1):\n",
      "        combDataMap[(ptBin1, ptBin2)] = RooDataSet(\"combData\"+\"_\"+str(ptBin1)+\"_\"+str(ptBin2),\n",
      "                                                   \"combined data \"+str(ptBin1)+\"_\"+str(ptBin2),\n",
      "                                                   RooArgSet(mass),ROOT.RooFit.Index(sample),\n",
      "                                                   ROOT.RooFit.Import(\"all\",datasetAllMap[(ptBin1, ptBin2)]),\n",
      "                                                   ROOT.RooFit.Import(\"pass\",datasetPassMap[(ptBin1, ptBin2)]))\n",
      "        # meanB.setRange(ptBinsTag[ptBin1]+45, ptBinsTag[ptBin1+1]+45)\n",
      "        # meanB.setVal((ptBinsTag[ptBin1]+ptBinsTag[ptBin1+1])/2+45)\n",
      "        frMap[(ptBin1, ptBin2)] = simPdf.fitTo(combDataMap[(ptBin1,ptBin2)], ROOT.RooFit.Save(ROOT.kTRUE),\n",
      "                                               ROOT.RooFit.Extended(ROOT.kTRUE), ROOT.RooFit.NumCPU(4))\n",
      "        # Use this for minos (better error estimate, but takes longer)\n",
      "        frMap[(ptBin1, ptBin2)].Print(\"v\")\n",
      "        simPdf.getParameters(combDataMap[(ptBin1, ptBin2)]).writeToFile(buildNamePars(\"parameters_\", ptBin1, ptBin1+1,\n",
      "                                                                                      ptBin2, ptBin2+1, ptBinsTag,\n",
      "                                                                                      ptBinsProbe)+\".txt\")\n",
      "        hEff.SetBinContent(ptBin1+1, ptBin2+1, efficiency.getVal())\n",
      "        hEff.SetBinError(ptBin1+1, ptBin2+1, efficiency.getError())\n",
      "        hEff1D.SetBinContent(ptBin1+1, efficiency.getVal())\n",
      "        hEff1D.SetBinError(ptBin1+1, efficiency.getError())\n",
      "        simultaneousFit(ptBin1, ptBin2, combDataMap[(ptBin1,ptBin2)])"
     ],
     "language": "python",
     "metadata": {},
     "outputs": [],
     "prompt_number": 12
    },
    {
     "cell_type": "heading",
     "level": 3,
     "metadata": {},
     "source": [
      "Make all plots"
     ]
    },
    {
     "cell_type": "code",
     "collapsed": false,
     "input": [
      "import ROOT\n",
      "from utils import *\n",
      "\n",
      "# Plot the fit results\n",
      "\n",
      "def plotResults(ptBin1, ptBin2, canvas2, canvas3):\n",
      "    canvas2.cd(find_position_NoOverflow(ptBin1, ptBin2, ptBinsTag)+1)\n",
      "    inputAll = ROOT.TFile.Open(buildNamePars(\"fitAll_\", ptBin1, ptBin1+1, ptBin2, ptBin2+1, ptBinsTag, ptBinsProbe)+\".root\")\n",
      "    frame1 = inputAll.FindObjectAny(buildNamePars(\"fitAll_\", ptBin1, ptBin1+1, ptBin2, ptBin2+1, ptBinsTag, ptBinsProbe))\n",
      "    frame1.Draw()\n",
      "\n",
      "    canvas3.cd(find_position_NoOverflow(ptBin1, ptBin2, ptBinsTag)+1)\n",
      "    inputPass= ROOT.TFile.Open(buildNamePars(\"fitPass_\", ptBin1, ptBin1+1, ptBin2, ptBin2+1, ptBinsTag, ptBinsProbe)+\".root\")\n",
      "    frame2 = inputPass.FindObjectAny(buildNamePars(\"fitPass_\", ptBin1, ptBin1+1, ptBin2, ptBin2+1, ptBinsTag, ptBinsProbe))\n",
      "    frame2.Draw()\n",
      "\n",
      "\n",
      "from array import array\n",
      "hEff = ROOT.TH2D(\"hEff\", \"hEff\", len(ptBinsTag)-1, array('d',ptBinsTag), len(ptBinsProbe)-1, array('d',ptBinsProbe))\n",
      "hEff1D = ROOT.TH1D(\"hEff1D\", \"hEff1D\", len(ptBinsProbe)-1, array('d',ptBinsProbe))\n",
      "\n",
      "# Canvases for fit results\n",
      "canvas2 = rootnotes.canvas(\"RooFitCanvas\", (400, 2000))\n",
      "canvas2.Divide(len(ptBinsTag)-1,len(ptBinsProbe)-1)\n",
      "canvas3 = rootnotes.canvas(\"RooFitCanvasPass\", (400, 2000))\n",
      "canvas3.Divide(len(ptBinsTag)-1,len(ptBinsProbe)-1)\n",
      "\n",
      "# Construct combined dataset in (x,sample) and perform simultaneous fit\n",
      "# Skip the last, overflow, bin from fitting to save time. It does not appear in the final plots.\n",
      "# Note that the following code assumes an extra bin to build the name of the output file.\n",
      "for ptBin1 in range(0, len(ptBinsTag)-1):\n",
      "    for ptBin2 in range(0, len(ptBinsProbe)-1):\n",
      "        plotResults(ptBin1, ptBin2, canvas2, canvas3)\n",
      "        for line in open(buildNamePars(\"parameters_\", ptBin1, ptBin1+1, ptBin2, ptBin2+1, ptBinsTag, ptBinsProbe)+\".txt\"):\n",
      "            if line.find(\"efficiency\") != -1:\n",
      "                eff = float(line.split()[2])\n",
      "                effErr = float(line.split()[4])\n",
      "                print \"eff[\"+str(ptBinsTag[ptBin1])+\"_\"+str(ptBinsTag[ptBin1+1])+\\\n",
      "                \", \"+str(ptBinsProbe[ptBin2])+\"_\"+str(ptBinsProbe[ptBin2+1])+\"] = \", eff, \"+/-\", effErr\n",
      "                hEff.SetBinContent(ptBin1+1, ptBin2+1, eff)\n",
      "                hEff.SetBinError(ptBin1+1, ptBin2+1, effErr)\n",
      "                hEff1D.SetBinContent(ptBin2+1, eff)\n",
      "                hEff1D.SetBinError(ptBin2+1, effErr)\n",
      "\n",
      "canvas4 = rootnotes.canvas(\"efficiency\", (600, 600))\n",
      "hEff.Draw(\"COLZTEXTE\")\n",
      "hEff.SetStats(ROOT.kFALSE)\n",
      "\n",
      "canvas5 = rootnotes.canvas(\"efficiency1D\", (600, 600))\n",
      "hEff1D.GetXaxis().SetTitle(\"probe muon p_{T} [GeV/c]\")\n",
      "hEff1D.GetYaxis().SetTitle(\"passing/all\")\n",
      "hEff1D.Draw()\n",
      "hEff1D.GetYaxis().SetRangeUser(0,1.1)\n",
      "hEff1D.SetStats(ROOT.kFALSE)"
     ],
     "language": "python",
     "metadata": {},
     "outputs": [
      {
       "output_type": "stream",
       "stream": "stdout",
       "text": [
        "eff[20_10000, 26_30] =  0.72906 +/- 0.054487\n",
        "eff[20_10000, 30_35] =  0.85402 +/- 0.041652\n",
        "eff[20_10000, 35_40] =  0.88252 +/- 0.033592\n",
        "eff[20_10000, 40_45] =  0.89814 +/- 0.027357\n",
        "eff[20_10000, 45_50] =  0.90829 +/- 0.033814\n",
        "eff[20_10000, 50_60] =  0.90838 +/- 0.046645\n",
        "eff[20_10000, 60_70] =  0.92999 +/- 0.081087\n"
       ]
      },
      {
       "output_type": "stream",
       "stream": "stderr",
       "text": [
        "TROOT::Append:0: RuntimeWarning: Replacing existing TH1: hEff (Potential memory leak).\n",
        "TROOT::Append:0: RuntimeWarning: Replacing existing TH1: hEff1D (Potential memory leak).\n"
       ]
      }
     ],
     "prompt_number": 13
    },
    {
     "cell_type": "code",
     "collapsed": false,
     "input": [
      "canvas2"
     ],
     "language": "python",
     "metadata": {},
     "outputs": [],
     "prompt_number": 20
    },
    {
     "cell_type": "code",
     "collapsed": false,
     "input": [
      "canvas3"
     ],
     "language": "python",
     "metadata": {},
     "outputs": [],
     "prompt_number": 21
    },
    {
     "cell_type": "code",
     "collapsed": false,
     "input": [
      "canvas4"
     ],
     "language": "python",
     "metadata": {},
     "outputs": [],
     "prompt_number": 22
    },
    {
     "cell_type": "code",
     "collapsed": false,
     "input": [
      "canvas5"
     ],
     "language": "python",
     "metadata": {},
     "outputs": [],
     "prompt_number": 23
    },
    {
     "cell_type": "heading",
     "level": 3,
     "metadata": {},
     "source": [
      "Questions"
     ]
    },
    {
     "cell_type": "markdown",
     "metadata": {},
     "source": [
      "**Question 1**: Redo the fit adding the background. What is the effect on the results?\n",
      "\n",
      "Note: there is a variable called \"NoBkgd\" that can be used to switch the background pdf on and off in the full pdf definition."
     ]
    },
    {
     "cell_type": "code",
     "collapsed": false,
     "input": [],
     "language": "python",
     "metadata": {},
     "outputs": [],
     "prompt_number": 17
    },
    {
     "cell_type": "markdown",
     "metadata": {},
     "source": [
      "**Question 2**: add binning in $\\eta$ and compute the efficiency vs $p_T$ and $\\eta$\n",
      "\n",
      "Note: this question is quite hard. You can tackle it if you have spare time, otherwise you can take it offline."
     ]
    },
    {
     "cell_type": "code",
     "collapsed": false,
     "input": [],
     "language": "python",
     "metadata": {},
     "outputs": [],
     "prompt_number": 17
    }
   ],
   "metadata": {}
  }
 ]
}