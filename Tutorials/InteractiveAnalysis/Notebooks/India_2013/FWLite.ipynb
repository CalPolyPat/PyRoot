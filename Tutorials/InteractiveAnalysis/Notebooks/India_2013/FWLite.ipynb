{
 "metadata": {
  "name": ""
 },
 "nbformat": 3,
 "nbformat_minor": 0,
 "worksheets": [
  {
   "cells": [
    {
     "cell_type": "heading",
     "level": 1,
     "metadata": {},
     "source": [
      "FWLite in IPython"
     ]
    },
    {
     "cell_type": "markdown",
     "metadata": {},
     "source": [
      "This example shows how to use FWLite in pyroot. It provides examples of how to load a collection and loop on the events performing selections and plotting an invariant mass distribution."
     ]
    },
    {
     "cell_type": "markdown",
     "metadata": {},
     "source": [
      "Basic imports"
     ]
    },
    {
     "cell_type": "code",
     "collapsed": false,
     "input": [
      "import ROOT\n",
      "from DataFormats.FWLite import Events, Handle\n",
      "# For inline plots\n",
      "import rootnotes\n",
      "import rootprint\n",
      "import utils"
     ],
     "language": "python",
     "metadata": {},
     "outputs": [],
     "prompt_number": 1
    },
    {
     "cell_type": "markdown",
     "metadata": {},
     "source": [
      "$Z\\rightarrow\\mu^+\\mu^-$ MC PATtuple"
     ]
    },
    {
     "cell_type": "code",
     "collapsed": false,
     "input": [
      "events = Events ('B281755E-29D2-E111-A29E-001E67397701.root')"
     ],
     "language": "python",
     "metadata": {},
     "outputs": [],
     "prompt_number": 2
    },
    {
     "cell_type": "markdown",
     "metadata": {},
     "source": [
      "Create a handle outside the loop. The handle is used to load the collections of objects in the event loop. It allows to access muons in this case, but the same can be used to access any other collection in the event."
     ]
    },
    {
     "cell_type": "code",
     "collapsed": false,
     "input": [
      "handle = Handle ('std::vector<reco::Muon>')\n",
      "# a label is just a tuple of strings that is initialized just\n",
      "# like and edm::InputTag\n",
      "label = (\"muons\")"
     ],
     "language": "python",
     "metadata": {},
     "outputs": [],
     "prompt_number": 3
    },
    {
     "cell_type": "markdown",
     "metadata": {},
     "source": [
      "Change the style of the plot from the default with grey background to a cleaner white background"
     ]
    },
    {
     "cell_type": "code",
     "collapsed": false,
     "input": [
      "ROOT.gROOT.SetStyle('Plain')"
     ],
     "language": "python",
     "metadata": {},
     "outputs": [],
     "prompt_number": 4
    },
    {
     "cell_type": "markdown",
     "metadata": {},
     "source": [
      "Define a TH1F histogram for the invariant mass plot"
     ]
    },
    {
     "cell_type": "code",
     "collapsed": false,
     "input": [
      "zmassHist = ROOT.TH1F (\"zmass\", \"Z Candidate Mass\", 50, 60, 120)"
     ],
     "language": "python",
     "metadata": {},
     "outputs": [],
     "prompt_number": 5
    },
    {
     "cell_type": "markdown",
     "metadata": {},
     "source": [
      "Event loop and histogram filling"
     ]
    },
    {
     "cell_type": "code",
     "collapsed": false,
     "input": [
      "# %%rootprint\n",
      "\n",
      "# Muon mass in GeV\n",
      "muonMass = 0.1057\n",
      "\n",
      "for event in events:\n",
      "    # use getByLabel, just like in cmsRun\n",
      "    event.getByLabel (label, handle)\n",
      "    # get the product\n",
      "    muons = handle.product()\n",
      "    # use muons to make Z peak\n",
      "    numMuons = len(muons)\n",
      "    if numMuons < 2: continue\n",
      "    for outer in range(numMuons - 1):\n",
      "        outerMuon = muons[outer]\n",
      "        for inner in range(outer + 1, numMuons):\n",
      "            innerMuon = muons[inner]\n",
      "            if outerMuon.charge() * innerMuon.charge() >= 0:\n",
      "                continue\n",
      "            # This is good if we have the energy. For a reco::Muon we have it because we are the\n",
      "            # hypothesis that the particle is a muon. For a reco::Track we do not have it.\n",
      "            inner4v = ROOT.TLorentzVector (innerMuon.px(), innerMuon.py(),\n",
      "                                           innerMuon.pz(), innerMuon.energy())\n",
      "            outer4v = ROOT.TLorentzVector (outerMuon.px(), outerMuon.py(),\n",
      "                                           outerMuon.pz(), outerMuon.energy())\n",
      "            # If you are using reco::Tracks (for example you are accessing the StandAloneMuons directly instead of through\n",
      "            # the reco::Muon container, you will not have access to the energy method. You can use sqrt(p()^2+muonMass^2) or\n",
      "            # you can create an empty TLorentzVector and use the SetPxPyPzM() method to set the content using the muon mass\n",
      "            # for M, such as:\n",
      "            # inner4v.SetPxPyPzM(innerMuon.px(), innerMuon.py(), innerMuon.pz(), muMass)\n",
      "            zmassHist.Fill( (inner4v + outer4v).M() )"
     ],
     "language": "python",
     "metadata": {},
     "outputs": [],
     "prompt_number": 6
    },
    {
     "cell_type": "markdown",
     "metadata": {},
     "source": [
      "Draw the canvas. We use the rootnotes macro to draw it inline"
     ]
    },
    {
     "cell_type": "code",
     "collapsed": false,
     "input": [
      "# make a canvas, draw, and save it\n",
      "c1 = rootnotes.canvas(\"test\", (400, 400))\n",
      "zmassHist.Draw()\n",
      "c1"
     ],
     "language": "python",
     "metadata": {},
     "outputs": [
      {
       "metadata": {},
       "output_type": "pyout",
       "png": "[encoded data removed]",
       "prompt_number": 7,
       "text": [
        "<ROOT.TCanvas object (\"test\") at 0x520a2c0>"
       ]
      }
     ],
     "prompt_number": 7
    },
    {
     "cell_type": "markdown",
     "metadata": {},
     "source": [
      "**Question 1**: can you compute the efficiency of selecting dimuon candidates where the pt of each muon is above 25 GeV?\n",
      "Draw a canvas with two histograms. On the left the one before cuts and on the right the one after cuts. You can modify the event loop above."
     ]
    },
    {
     "cell_type": "code",
     "collapsed": false,
     "input": [],
     "language": "python",
     "metadata": {},
     "outputs": [],
     "prompt_number": 7
    },
    {
     "cell_type": "markdown",
     "metadata": {},
     "source": [
      "**Question 2**: perform a fit to the invariant mass distribution and estimate the number of Z boson candidates.\n",
      "\n",
      "Note: at this level a gaussian fit will be enough. In a subsequent exercise we will refine the estimate using RooFit."
     ]
    },
    {
     "cell_type": "code",
     "collapsed": false,
     "input": [],
     "language": "python",
     "metadata": {},
     "outputs": [],
     "prompt_number": 7
    },
    {
     "cell_type": "markdown",
     "metadata": {},
     "source": [
      "**Question 3**: Find the name of the collections in the input tree, make the same plot for standAloneMuons. Compute the same efficiency as before. What is the most striking difference you observe?\n",
      "\n",
      "Note that the standAloneMuons collection is of type std::vector< reco::Track > instead of std::vector< reco::Muon >.\n",
      "\n",
      "You can use the code in the next cell to find the names of the collections.\n",
      "\n",
      "Modify the code above to also load the standAloneMuons collection."
     ]
    },
    {
     "cell_type": "code",
     "collapsed": false,
     "input": [
      "%%rootprint\n",
      "\n",
      "inputFile = ROOT.TFile(\"B281755E-29D2-E111-A29E-001E67397701.root\")\n",
      "tree = inputFile.Get(\"Events\")\n",
      "# Uncomment this to get the list of all collections maching the pattern\n",
      "# tree.Print(\"recoTracks_standAloneMuons_*\")"
     ],
     "language": "python",
     "metadata": {},
     "outputs": [
      {
       "output_type": "stream",
       "stream": "stdout",
       "text": [
        "\n"
       ]
      }
     ],
     "prompt_number": 8
    },
    {
     "cell_type": "markdown",
     "metadata": {},
     "source": [
      "Uncomment and run the next cell to see the suggestion"
     ]
    },
    {
     "cell_type": "code",
     "collapsed": false,
     "input": [
      "# print open(\"FWLiteSuggestionQuestion3.txt\").read()"
     ],
     "language": "python",
     "metadata": {},
     "outputs": [],
     "prompt_number": 9
    },
    {
     "cell_type": "code",
     "collapsed": false,
     "input": [],
     "language": "python",
     "metadata": {},
     "outputs": []
    }
   ],
   "metadata": {}
  }
 ]
}