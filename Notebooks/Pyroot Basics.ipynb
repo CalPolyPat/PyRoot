{
 "metadata": {
  "name": "Pyroot Basics"
 },
 "nbformat": 3,
 "nbformat_minor": 0,
 "worksheets": [
  {
   "cells": [
    {
     "cell_type": "heading",
     "level": 1,
     "metadata": {},
     "source": [
      "Pyroot Basics"
     ]
    },
    {
     "cell_type": "markdown",
     "metadata": {},
     "source": [
      "In this notebook we will review the basics of pyroot. Pyroot provides a python interface to root, allowing for simpler code.\n",
      "As usual there is a tradeoff between simplicity (or more general code) and performance. However, in an interactive usage the biggest bottleneck is generally the speed at which code is written, debugged and tested.\n",
      "\n",
      "We will start with a simple example: draw a canvas with a function in it. This is the time to introduce two important extensions for specific to the ipython notebook:\n",
      "\n",
      "1. **%%rootprint**: an ipython magic command allowing to capture output that root would normally direct to the terminal and display it in the cell. Normally, any python output will be written under the corresponding cell, however, some root functions produce output that go directly in the terminal (such as fit results). This command must be the first one in the cell and will capture all outputs.\n",
      "2. **rootnotes**: a wrapper for TCanvas. Normally, when drawing a TCanvas a new window would pop up. By creating the canvas via rootnotes the figure will instead be embedded in the notebook."
     ]
    },
    {
     "cell_type": "code",
     "collapsed": false,
     "input": [
      "import ROOT\n",
      "from ROOT import gROOT, TCanvas, TF1, TFile, TTree, gRandom, TH1F\n",
      "import rootnotes\n",
      "import utils"
     ],
     "language": "python",
     "metadata": {},
     "outputs": [],
     "prompt_number": 1
    },
    {
     "cell_type": "code",
     "collapsed": false,
     "input": [
      "gROOT.Reset()\n",
      "\n",
      "# This is what you would normally do in pyroot\n",
      "# c1 = TCanvas( 'c1', 'Example with Formula', 200, 10, 700, 500 )\n",
      "\n",
      "# This is to draw the canvas embedded in the notebook\n",
      "c1 = rootnotes.canvas(\"Example with Formula\", (400, 400))\n",
      "\n",
      "#\n",
      "# Create a one dimensional function and draw it\n",
      "#\n",
      "fun1 = TF1( 'fun1', 'abs(sin(x)/x)', 0, 10 )\n",
      "c1.SetGridx()\n",
      "c1.SetGridy()\n",
      "fun1.Draw()\n",
      "# c1.Update()\n",
      "\n",
      "c1"
     ],
     "language": "python",
     "metadata": {},
     "outputs": [
      {
       "output_type": "pyout",
       "png": "[encoded data removed]",
       "prompt_number": 2,
       "text": [
        "<ROOT.TCanvas object (\"Example with Formula\") at 0x7ff6fd8b88d0>"
       ]
      }
     ],
     "prompt_number": 2
    },
    {
     "cell_type": "heading",
     "level": 4,
     "metadata": {},
     "source": [
      "Produce a tree"
     ]
    },
    {
     "cell_type": "code",
     "collapsed": false,
     "input": [
      "import numpy\n",
      "\n",
      "print \"Writing a tree\"\n",
      "\n",
      "f = TFile(\"tree.root\", \"recreate\")\n",
      "t = TTree(\"name_of_tree\", \"tree title\")\n",
      "\n",
      "# create 1 dimensional float arrays (python's float datatype corresponds to c++ doubles)\n",
      "# as fill variables\n",
      "n = numpy.zeros(1, dtype=float)\n",
      "u = numpy.zeros(1, dtype=float)\n",
      "\n",
      "# create the branches and assign the fill-variables to them\n",
      "t.Branch('normal', n, 'normal/D')\n",
      "t.Branch('uniform', u, 'uniform/D')\n",
      "\n",
      "# create the histograms\n",
      "hGaus = TH1F(\"gaus\", \"gaus\", 50, -5, 5)\n",
      "hUniform = TH1F(\"uniform\", \"uniform\", 50, 0, 1)\n",
      "\n",
      "# create some random numbers, fill them into the fill varibles and call Fill()\n",
      "for i in xrange(10000):\n",
      "\tn[0] = gRandom.Gaus()\n",
      "\tu[0] = gRandom.Uniform()\n",
      "\tt.Fill()\n",
      "\thGaus.Fill( n[0] )\n",
      "\thUniform.Fill( u[0] )\n",
      "\n",
      "\n",
      "# write the tree into the output file and close the file\n",
      "f.Write()\n",
      "f.Close()"
     ],
     "language": "python",
     "metadata": {},
     "outputs": [
      {
       "output_type": "stream",
       "stream": "stdout",
       "text": [
        "Writing a tree\n"
       ]
      }
     ],
     "prompt_number": 3
    },
    {
     "cell_type": "heading",
     "level": 4,
     "metadata": {},
     "source": [
      "Capturing output"
     ]
    },
    {
     "cell_type": "markdown",
     "metadata": {},
     "source": [
      "Use the rootprint. This is included in utils.py.\n",
      "Try to uncomment the magic command and rerun the code."
     ]
    },
    {
     "cell_type": "code",
     "collapsed": false,
     "input": [
      "%%rootprint\n",
      "\n",
      "inputFile = TFile(\"tree.root\")\n",
      "inputFile.ls()\n",
      "tree = inputFile.Get(\"name_of_tree\")\n",
      "tree.Print()"
     ],
     "language": "python",
     "metadata": {},
     "outputs": [
      {
       "output_type": "stream",
       "stream": "stdout",
       "text": [
        "TFile**\t\ttree.root\t\n",
        " TFile*\t\ttree.root\t\n",
        "  KEY: TTree\tname_of_tree;1\ttree title\n",
        "  KEY: TH1F\tgaus;1\tgaus\n",
        "  KEY: TH1F\tuniform;1\tuniform\n",
        "******************************************************************************\n",
        "*Tree    :name_of_tree: tree title                                             *\n",
        "*Entries :    10000 : Total =          161824 bytes  File  Size =     127087 *\n",
        "*        :          : Tree compression factor =   1.27                       *\n",
        "******************************************************************************\n",
        "*Br    0 :normal    : normal/D                                               *\n",
        "*Entries :    10000 : Total  Size=      80729 bytes  File Size  =      72047 *\n",
        "*Baskets :        3 : Basket Size=      32000 bytes  Compression=   1.11     *\n",
        "*............................................................................*\n",
        "*Br    1 :uniform   : uniform/D                                              *\n",
        "*Entries :    10000 : Total  Size=      80736 bytes  File Size  =      54515 *\n",
        "*Baskets :        3 : Basket Size=      32000 bytes  Compression=   1.47     *\n",
        "*............................................................................*\n",
        "\n"
       ]
      }
     ],
     "prompt_number": 4
    },
    {
     "cell_type": "markdown",
     "metadata": {},
     "source": [
      "And draw the tree variables"
     ]
    },
    {
     "cell_type": "code",
     "collapsed": false,
     "input": [
      "%%rootprint\n",
      "\n",
      "# ROOT.gSystem.RedirectOutput(\"test.txt\", \"w\")\n",
      "\n",
      "# inputFile = TFile(\"tree.root\")\n",
      "# tree = inputFile.Get(\"name_of_tree\")\n",
      "hGaus = inputFile.FindObjectAny(\"gaus\")\n",
      "hUniform = inputFile.FindObjectAny(\"uniform\")\n",
      "\n",
      "c2 = rootnotes.canvas(\"TreeCanvas\", (800, 800))\n",
      "c2.Divide(2,2)\n",
      "c2.cd(1)\n",
      "tree.Draw(\"normal\")\n",
      "c2.cd(2)\n",
      "tree.Draw(\"uniform\")\n",
      "\n",
      "c2.cd(3)\n",
      "hGaus.Draw()\n",
      "fun2 = TF1( 'fun2', 'gaus', -5, 5 )\n",
      "hGaus.Fit(fun2)\n",
      "c2.cd(4)\n",
      "hUniform.GetYaxis().SetRangeUser(0,300)\n",
      "hUniform.Draw()\n",
      "fun3 = TF1( 'fun3', 'pol0', 0, 1)\n",
      "hUniform.Fit(fun3)\n",
      "tmpFile = open(\"test.txt\")\n",
      "# print tmpFile.read()\n",
      "c2"
     ],
     "language": "python",
     "metadata": {},
     "outputs": [
      {
       "output_type": "stream",
       "stream": "stdout",
       "text": [
        " FCN=51.0502 FROM MIGRAD    STATUS=CONVERGED      62 CALLS          63 TOTAL\n",
        "                     EDM=1.55391e-09    STRATEGY= 1      ERROR MATRIX ACCURATE \n",
        "  EXT PARAMETER                                   STEP         FIRST   \n",
        "  NO.   NAME      VALUE            ERROR          SIZE      DERIVATIVE \n",
        "   1  Constant     8.01116e+02   9.64674e+00   2.82938e-02   2.17123e-06\n",
        "   2  Mean        -2.28476e-02   9.96013e-03   3.50838e-05   2.53522e-03\n",
        "   3  Sigma        9.91213e-01   6.63908e-03   6.49847e-06  -1.55889e-02\n",
        "\n",
        "****************************************\n",
        "Minimizer is Linear\n",
        "Chi2                      =      52.7602\n",
        "NDf                       =           49\n",
        "p0                        =      198.945   +/-   1.99472     \n",
        "\n"
       ]
      }
     ],
     "prompt_number": 5
    },
    {
     "cell_type": "code",
     "collapsed": false,
     "input": [
      "c2"
     ],
     "language": "python",
     "metadata": {},
     "outputs": [
      {
       "output_type": "pyout",
       "png": "[encoded data removed]",
       "prompt_number": 6,
       "text": [
        "<ROOT.TCanvas object (\"TreeCanvas\") at 0x7ff6fd8c97d0>"
       ]
      }
     ],
     "prompt_number": 6
    },
    {
     "cell_type": "code",
     "collapsed": false,
     "input": [],
     "language": "python",
     "metadata": {},
     "outputs": []
    }
   ],
   "metadata": {}
  }
 ]
}