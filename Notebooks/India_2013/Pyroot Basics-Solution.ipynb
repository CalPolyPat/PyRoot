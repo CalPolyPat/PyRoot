{
 "metadata": {
  "name": ""
 },
 "nbformat": 3,
 "nbformat_minor": 0,
 "worksheets": [
  {
   "cells": [
    {
     "cell_type": "heading",
     "level": 1,
     "metadata": {},
     "source": [
      "Pyroot Basics - Solution"
     ]
    },
    {
     "cell_type": "markdown",
     "metadata": {},
     "source": [
      "In this notebook we will review the basics of pyroot. Pyroot provides a python interface to root, allowing for simpler code.\n",
      "As usual there is a tradeoff between simplicity (or more general code) and performance. However, in an interactive usage the biggest bottleneck is generally the speed at which code is written, debugged and tested.\n",
      "\n",
      "We will start with a simple example: draw a canvas with a function in it. This is the time to introduce two important extensions for specific to the ipython notebook:\n",
      "\n",
      "1. **rootnotes**: a wrapper for TCanvas. Normally, when drawing a TCanvas a new window would pop up. By creating the canvas via rootnotes the figure will instead be embedded in the notebook. \n",
      "\n",
      "2. **%%rootprint**: an ipython magic command allowing to capture output that ROOT would normally direct to the terminal and display it in the cell. Normally, any python output will be written under the corresponding cell, however, some root functions produce output that go directly in the terminal (such as fit results). This command must be the first one in the cell and will capture all outputs. However, if this command is used for a cell, the canvas cannot be shown in the same cell.  "
     ]
    },
    {
     "cell_type": "code",
     "collapsed": false,
     "input": [
      "import ROOT\n",
      "from ROOT import gROOT, TCanvas, TF1, TFile, TTree, gRandom, TH1F\n",
      "import rootnotes\n",
      "import utils"
     ],
     "language": "python",
     "metadata": {},
     "outputs": [],
     "prompt_number": 2
    },
    {
     "cell_type": "code",
     "collapsed": false,
     "input": [
      "gROOT.Reset()\n",
      "\n",
      "# This is what you would normally do in pyroot\n",
      "# c1 = TCanvas( 'c1', 'Example with Formula', 200, 10, 700, 500 )\n",
      "# This is to draw the canvas embedded in the notebook\n",
      "c1 = rootnotes.canvas(\"Example with Formula\", (400, 400))\n",
      "\n",
      "# Create a one dimensional function and draw it\n",
      "fun1 = TF1( 'fun1', 'abs(sin(x)/x)', 0, 10 )\n",
      "c1.SetGridx()\n",
      "c1.SetGridy()\n",
      "fun1.Draw()\n",
      "\n",
      "c1"
     ],
     "language": "python",
     "metadata": {},
     "outputs": [
      {
       "metadata": {},
       "output_type": "pyout",
       "png": "[encoded data removed]",
       "prompt_number": 3,
       "text": [
        "<ROOT.TCanvas object (\"Example with Formula\") at 0x1d26c790>"
       ]
      }
     ],
     "prompt_number": 3
    },
    {
     "cell_type": "heading",
     "level": 4,
     "metadata": {},
     "source": [
      "Produce a tree"
     ]
    },
    {
     "cell_type": "code",
     "collapsed": false,
     "input": [
      "import numpy\n",
      "\n",
      "print \"Writing a tree and filling a histogram\"\n",
      "\n",
      "f = TFile(\"tree.root\", \"recreate\")\n",
      "t = TTree(\"name_of_tree\", \"tree title\")\n",
      "\n",
      "# create 1 dimensional float arrays (python's float datatype corresponds to c++ doubles)\n",
      "# as fill variables\n",
      "n = numpy.zeros(1, dtype=float)\n",
      "\n",
      "# create the branches and assign the fill-variables to them\n",
      "t.Branch('gaus', n, 'gaus/D')\n",
      "\n",
      "# create the histograms\n",
      "hUniform = TH1F(\"uniform\", \"uniform\", 20, 0, 1)\n",
      "\n",
      "# create some random numbers, fill them into the fill varibles and call Fill()\n",
      "for i in xrange(10000):\n",
      "\tn[0] = gRandom.Gaus()\n",
      "\tt.Fill()\n",
      "\thUniform.Fill( gRandom.Uniform() )\n",
      "\n",
      "\n",
      "# write the tree into the output file and close the file\n",
      "f.Write()\n",
      "f.Close()"
     ],
     "language": "python",
     "metadata": {},
     "outputs": [
      {
       "output_type": "stream",
       "stream": "stdout",
       "text": [
        "Writing a tree and filling a histogram\n"
       ]
      }
     ],
     "prompt_number": 4
    },
    {
     "cell_type": "heading",
     "level": 4,
     "metadata": {},
     "source": [
      "Capturing output"
     ]
    },
    {
     "cell_type": "markdown",
     "metadata": {},
     "source": [
      "Use the rootprint. This is included in utils.py.\n",
      "Try to uncomment the magic command and rerun the code."
     ]
    },
    {
     "cell_type": "code",
     "collapsed": false,
     "input": [
      "%%rootprint\n",
      "\n",
      "inputFile = TFile(\"tree.root\")\n",
      "inputFile.ls()\n",
      "tree = inputFile.Get(\"name_of_tree\")\n",
      "tree.Print()"
     ],
     "language": "python",
     "metadata": {},
     "outputs": [
      {
       "output_type": "stream",
       "stream": "stdout",
       "text": [
        "TFile**\t\ttree.root\t\n",
        " TFile*\t\ttree.root\t\n",
        "  KEY: TTree\tname_of_tree;1\ttree title\n",
        "  KEY: TH1F\tuniform;1\tuniform\n",
        "******************************************************************************\n",
        "*Tree    :name_of_tree: tree title                                             *\n",
        "*Entries :    10000 : Total =           81069 bytes  File  Size =      72435 *\n",
        "*        :          : Tree compression factor =   1.11                       *\n",
        "******************************************************************************\n",
        "*Br    0 :gaus      : gaus/D                                                 *\n",
        "*Entries :    10000 : Total  Size=      80715 bytes  File Size  =      72041 *\n",
        "*Baskets :        3 : Basket Size=      32000 bytes  Compression=   1.11     *\n",
        "*............................................................................*\n",
        "\n"
       ]
      }
     ],
     "prompt_number": 5
    },
    {
     "cell_type": "markdown",
     "metadata": {},
     "source": [
      "And draw the tree variables"
     ]
    },
    {
     "cell_type": "code",
     "collapsed": false,
     "input": [
      "%%rootprint\n",
      "\n",
      "hUniform = inputFile.FindObjectAny(\"uniform\")\n",
      "\n",
      "c2 = rootnotes.canvas(\"TreeCanvas\", (800, 400))\n",
      "c2.Divide(2)\n",
      "\n",
      "c2.cd(1)\n",
      "hGaus = TH1F(\"hGaus\", \"hGaus\", 20, -5. ,5.)\n",
      "tree.Draw(\"gaus>>hGaus\")\n",
      "fun2 = TF1( 'fun2', 'gaus', -5, 5 )\n",
      "hGaus.Fit(fun2)\n",
      "\n",
      "c2.cd(2)\n",
      "fun3 = TF1( 'fun3', 'pol0', 0, 1)\n",
      "hUniform.Fit(fun3)\n",
      "hUniform.GetYaxis().SetRangeUser(0,1000)"
     ],
     "language": "python",
     "metadata": {},
     "outputs": [
      {
       "output_type": "stream",
       "stream": "stdout",
       "text": [
        " FCN=22.5603 FROM MIGRAD    STATUS=CONVERGED      62 CALLS          63 TOTAL\n",
        "                     EDM=9.00581e-13    STRATEGY= 1      ERROR MATRIX ACCURATE \n",
        "  EXT PARAMETER                                   STEP         FIRST   \n",
        "  NO.   NAME      VALUE            ERROR          SIZE      DERIVATIVE \n",
        "   1  Constant     1.97747e+03   2.38646e+01   4.69200e-02   5.01005e-08\n",
        "   2  Mean        -1.51475e-02   1.00864e-02   2.38820e-05   8.21279e-05\n",
        "   3  Sigma        1.00645e+00   6.78302e-03   4.39902e-06   1.19204e-04\n",
        "\n",
        "****************************************\n",
        "Minimizer is Linear\n",
        "Chi2                      =      25.9401\n",
        "NDf                       =           19\n",
        "p0                        =      498.703   +/-   4.99351     \n",
        "\n"
       ]
      }
     ],
     "prompt_number": 6
    },
    {
     "cell_type": "code",
     "collapsed": false,
     "input": [
      "c2"
     ],
     "language": "python",
     "metadata": {},
     "outputs": [
      {
       "metadata": {},
       "output_type": "pyout",
       "png": "[encoded data removed]",
       "prompt_number": 7,
       "text": [
        "<ROOT.TCanvas object (\"TreeCanvas\") at 0x1e5ebaa0>"
       ]
      }
     ],
     "prompt_number": 7
    },
    {
     "cell_type": "code",
     "collapsed": false,
     "input": [],
     "language": "python",
     "metadata": {},
     "outputs": []
    }
   ],
   "metadata": {}
  }
 ]
}