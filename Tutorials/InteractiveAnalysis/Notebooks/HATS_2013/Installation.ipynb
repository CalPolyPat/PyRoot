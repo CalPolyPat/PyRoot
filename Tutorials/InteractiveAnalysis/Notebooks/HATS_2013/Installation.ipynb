{
 "metadata": {
  "name": "",
  "signature": "sha256:c15b6cea069a046c5525bf0aca4bf2eceb7c2d1084ebf1e74ddb3cba331ae762"
 },
 "nbformat": 3,
 "nbformat_minor": 0,
 "worksheets": [
  {
   "cells": [
    {
     "cell_type": "heading",
     "level": 1,
     "metadata": {},
     "source": [
      "Installation Instructions"
     ]
    },
    {
     "cell_type": "markdown",
     "metadata": {},
     "source": [
      "In order to be able to use PyRoot within the IPython notebook, you need to have the PyRoot extension compiled into ROOT.  That is explained in a straightforward way on the ROOT website but it isn't quite as simple when you use Anaconda's version of Python.  To get it to work, I found [this reference](\"https://groups.cern.ch/group/roottalk/Lists/Archive/Flat.aspx?RootFolder=/group/roottalk/Lists/Archive/trouble+installing+on+mac+os+(mavericks+-+but+problem+may+not+be+specific+to+mavericks\") that implies one needs to fix the library references with `otool`."
     ]
    },
    {
     "cell_type": "markdown",
     "metadata": {},
     "source": [
      "`cd $ROOTSYS/lib\n",
      "otool -L $ROOTSYS/lib/libPyROOT.so\n",
      "sudo install_name_tool -change libpython2.7.dylib /Applications/Anaconda/anaconda/lib/libpython2.7.dylib libPyROOT.so`"
     ]
    },
    {
     "cell_type": "code",
     "collapsed": false,
     "input": [
      "import ROOT"
     ],
     "language": "python",
     "metadata": {},
     "outputs": [],
     "prompt_number": 1
    },
    {
     "cell_type": "code",
     "collapsed": false,
     "input": [],
     "language": "python",
     "metadata": {},
     "outputs": []
    }
   ],
   "metadata": {}
  }
 ]
}