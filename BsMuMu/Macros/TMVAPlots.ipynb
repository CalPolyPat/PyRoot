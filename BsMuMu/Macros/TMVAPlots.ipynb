{
 "metadata": {
  "name": "TMVAPlots"
 },
 "nbformat": 3,
 "nbformat_minor": 0,
 "worksheets": [
  {
   "cells": [
    {
     "cell_type": "heading",
     "level": 1,
     "metadata": {},
     "source": [
      "Prepare plots and tables for the BsMuMu AN"
     ]
    },
    {
     "cell_type": "raw",
     "metadata": {},
     "source": [
      "Collection of scripts to produce the plots and tables for the BsMuMu AN.\n",
      "If the root trees for data and MC have not been merged yet run \"python all.py\" to produce them.\n",
      "Use the runTMVA.sh script to produce all the necessary files. To run the script do: \"source runTMVA.sh\" (It will submit 8 BDT trainings in parallel).\n",
      "It is better to first compile the macro TMVAClassification.C with \"root -l\"; \".L TMVAClassification.C+\"; \".q\".\n",
      "The first input is the cd into the directory where all the files are located.\n",
      "\n",
      "Summary of all the steps:\n",
      "- Produce the PATtuples using the Onia2MuMu package. The PATtuples are currently applying preselection cuts, but no muon-id and trigger.\n",
      "- Produce the trees from the PATtuples. The trees apply no additional cut is applied.\n",
      "- Run \"python all.py\" to merge the data trees and then split them in the eventNum%3 subsamples. It also applies the trigger and muon-id requirements from Common/Selection.h.\n",
      "- Run \"runTMVA.sh\" to do the BDT training and produce the TMVA*.root files needed by the macros in this page."
     ]
    },
    {
     "cell_type": "heading",
     "level": 2,
     "metadata": {},
     "source": [
      "Produce TMVA plots and copy them to latex figures dir"
     ]
    },
    {
     "cell_type": "code",
     "collapsed": false,
     "input": [
      "# Definition of common variables\n",
      "figuresDir = \"/Users/demattia/TMVA-v4.1.2/test/NewTrees/BsMuMuLatex/Figures/\"\n",
      "tablesDir = \"/Users/demattia/TMVA-v4.1.2/test/NewTrees/BsMuMuLatex/Tables/\"\n",
      "rootExecutable = \"/Users/demattia/Downloads/root-v5-34-00-patches/bin/root\""
     ],
     "language": "python",
     "metadata": {},
     "outputs": [],
     "prompt_number": 4
    },
    {
     "cell_type": "code",
     "collapsed": false,
     "input": [
      "cd /Users/demattia/TMVA-v4.1.2/test/NewTrees/"
     ],
     "language": "python",
     "metadata": {},
     "outputs": [
      {
       "output_type": "stream",
       "stream": "stdout",
       "text": [
        "/Users/demattia/TMVA-v4.1.2/test/NewTrees\n"
       ]
      }
     ],
     "prompt_number": 5
    },
    {
     "cell_type": "code",
     "collapsed": false,
     "input": [
      "from ROOT import TFile\n",
      "from ROOT import TH1F\n",
      "from ROOT import TH2F\n",
      "from ROOT import TCanvas\n",
      "from ROOT import TLegend\n",
      "from ROOT import THStack\n",
      "\n",
      "def saveCorrelationMatrixPlots(inputFile, region):\n",
      "    correlationMatrixS = inputFile.Get(\"CorrelationMatrixS\")\n",
      "    correlationMatrixB = inputFile.Get(\"CorrelationMatrixB\")\n",
      "    matrixCanvasS = TCanvas(\"correlationMatrixS\", \"correlation matrix signal\", 600, 500)\n",
      "    matrixCanvasS.Draw()\n",
      "    correlationMatrixS.Draw(\"BOXCOLTEXT\");\n",
      "    matrixCanvasS.SaveAs(figuresDir+\"correlationMatrixS_\"+region+\".pdf\")\n",
      "    matrixCanvasB = TCanvas(\"correlationMatrixB\", \"correlation matrix background\", 600, 500)\n",
      "    matrixCanvasB.Draw()\n",
      "    correlationMatrixB.Draw(\"BOXCOLTEXT\");\n",
      "    matrixCanvasB.SaveAs(figuresDir+\"correlationMatrixB_\"+region+\".pdf\")\n",
      "\n",
      "def TMVAPlots(region):\n",
      "    inputFile = TFile(\"TMVA_\"+region+\".root\")\n",
      "    saveCorrelationMatrixPlots(inputFile, region)\n",
      "    histoDir = inputFile.Get(\"InputVariables_Id\")\n",
      "    histoList = histoDir.GetListOfKeys()\n",
      "    for key in histoList:\n",
      "        histo = key.ReadObj()\n",
      "        if isinstance(histo, TH1F):\n",
      "            fullName = histo.GetName()\n",
      "            name = fullName.split(\"__\")[0]\n",
      "            hType = fullName.split(\"__\")[1].split(\"_\")[0]\n",
      "            if hType == \"Signal\":\n",
      "                canvas = TCanvas(name+\"_canvas\")\n",
      "                stack = THStack(name+\"_stack\", name)\n",
      "                canvas.Draw()\n",
      "                histo.Scale(1/histo.Integral())\n",
      "                stack.Add(histo)\n",
      "                histo.SetLineColor(4)\n",
      "                histo.SetFillColor(4);\n",
      "                histo.SetFillStyle(3004);\n",
      "                leg = TLegend(0.5536913,0.770979,0.9345638,0.9702797,\"\",\"brNDC\")\n",
      "                leg.AddEntry(histo, hType, \"f\")\n",
      "            else:\n",
      "                histo.Scale(1/histo.Integral())\n",
      "                stack.Add(histo)\n",
      "                stack.Draw(\"nostack\")\n",
      "                stack.SetMaximum(stack.GetMaximum(\"nostack\")*1.35)\n",
      "                stack.GetXaxis().SetTitle(histo.GetXaxis().GetTitle())\n",
      "                stack.GetYaxis().SetTitle(histo.GetYaxis().GetTitle())\n",
      "                histo.SetLineColor(2)\n",
      "                histo.SetFillColor(2);\n",
      "                histo.SetFillStyle(3005);\n",
      "                leg.AddEntry(histo, hType, \"f\")\n",
      "                leg.SetFillColor(0)\n",
      "                leg.Draw()\n",
      "                canvas.SaveAs(figuresDir+name+\"_\"+region+\".pdf\")\n",
      "\n",
      "TMVAPlots(\"barrel\")\n",
      "TMVAPlots(\"endcaps\")"
     ],
     "language": "python",
     "metadata": {},
     "outputs": [],
     "prompt_number": 6
    },
    {
     "cell_type": "heading",
     "level": 3,
     "metadata": {},
     "source": [
      "Build ranking tables"
     ]
    },
    {
     "cell_type": "code",
     "collapsed": false,
     "input": [
      "def prepareTable(region, rankingType):\n",
      "    outputFileBase = open(tablesDir+\"ranking_\"+region+\".txt\", \"w\")\n",
      "\n",
      "    outputFileBase.write(\"\\\\begin{table} \\n\")\n",
      "    outputFileBase.write(\"  \\\\begin{tabular}{|l|l|l|} \\n\")\n",
      "    outputFileBase.write(\"    \\\\hline \\n\")\n",
      "    outputFileBase.write(\"    rank & variable & separation \\\\\\\\ \\n\")\n",
      "    outputFileBase.write(\"    \\\\hline \\n\")\n",
      "\n",
      "    rankingFound = False\n",
      "    for line in open(\"TMVALog_\"+region+\".txt\"):\n",
      "        if rankingFound and line.find(\"Factory\") != -1:\n",
      "            rankingFound = False\n",
      "        if rankingFound:\n",
      "            if line.find(\"----\") == -1:\n",
      "                splittedLine = line.split()\n",
      "                rank = splittedLine[3]\n",
      "                variable = splittedLine[5]\n",
      "                separation = splittedLine[7]\n",
      "                if line.find(rankingType) != -1:\n",
      "                    outputFileBase.write(\"    \"+rank+\" & \"+variable+\" & \"+separation+\" \\\\\\\\ \\n\")\n",
      "        if line.find(\"Rank \") != -1:\n",
      "            rankingFound = True\n",
      "\n",
      "    outputFileBase.write(\"    \\\\hline \\n\")\n",
      "    outputFileBase.write(\"  \\\\end{tabular} \\n\")\n",
      "    outputFileBase.write(\"  \\\\label{tab:datasets} \\n\")\n",
      "    outputFileBase.write(\"\\\\end{table} \\n\")\n",
      "    outputFileBase.close()\n",
      "    \n",
      "prepareTable(\"barrel\", \"IdTransformation\")\n",
      "prepareTable(\"endcaps\", \"IdTransformation\")\n",
      "\n",
      "\n",
      "import itertools\n",
      "\n",
      "def buildTableLine(line):\n",
      "    splittedLine = line.split()\n",
      "    variable = splittedLine[5]\n",
      "    separation = splittedLine[7]\n",
      "    return variable+\" & \"+separation\n",
      "    \n",
      "def prepareMultiTable(region, rankingType):\n",
      "    outputFileBase = open(tablesDir+\"ranking_\"+region+\"_\"+rankingType+\".txt\", \"w\")\n",
      "\n",
      "    outputFileBase.write(\"\\\\begin{table} \\n\")\n",
      "    outputFileBase.write(\"  \\\\begin{tabular}{|l|l|l|l|l|l|l|} \\n\")\n",
      "    outputFileBase.write(\"    \\\\hline \\n\")\n",
      "    outputFileBase.write(\"    & \\multicolumn{2}{|c|}{0} & \\multicolumn{2}{|c|}{1} & \\multicolumn{2}{|c|}{2} \\\\\\\\ \\n\")\n",
      "    outputFileBase.write(\"    \\\\hline \\n\")\n",
      "    outputFileBase.write(\"    rank & variable & separation & variable & separation & variable & separation \\\\\\\\ \\n\")\n",
      "    outputFileBase.write(\"    \\\\hline \\n\")\n",
      "\n",
      "    file0 = open(\"TMVALog_\"+region+\"_0.txt\")\n",
      "    file1 = open(\"TMVALog_\"+region+\"_1.txt\")\n",
      "    file2 = open(\"TMVALog_\"+region+\"_2.txt\")\n",
      "    rankingFound = False\n",
      "    for line1, line2, line3 in itertools.izip(file0, file1, file2):\n",
      "        if rankingFound and line1.find(\"Factory\") != -1:\n",
      "            rankingFound = False\n",
      "        if rankingFound:\n",
      "            if line1.find(\"----\") == -1:\n",
      "                if line1.find(rankingType) != -1:\n",
      "                    rank = line1.split()[3]\n",
      "                    outputFileBase.write(\"    \"+rank+\" & \")\n",
      "                    outputFileBase.write(buildTableLine(line1)+\" & \")\n",
      "                    outputFileBase.write(buildTableLine(line2)+\" & \")\n",
      "                    outputFileBase.write(buildTableLine(line3)+\" \\\\\\\\ \\n\")\n",
      "        if line1.find(\"Rank \") != -1:\n",
      "            rankingFound = True\n",
      "\n",
      "    outputFileBase.write(\"    \\\\hline \\n\")\n",
      "    outputFileBase.write(\"  \\\\end{tabular} \\n\")\n",
      "    outputFileBase.write(\"  \\\\label{tab:datasets\"+region+rankingType+\"} \\n\")\n",
      "    if rankingType == \"IdTransformation\":\n",
      "        outputFileBase.write(\"  \\\\caption{Variable ranking for events of the three different event samples in the \"+region+\" before BDT training.} \\n\")\n",
      "    else:\n",
      "        outputFileBase.write(\"  \\\\caption{Variable ranking for events of the three different event samples in the \"+region+\" after BDT training.} \\n\")\n",
      "    outputFileBase.write(\"\\\\end{table} \\n\")\n",
      "    outputFileBase.close()\n",
      "\n",
      "prepareMultiTable(\"barrel\", \"IdTransformation\")\n",
      "prepareMultiTable(\"endcaps\", \"IdTransformation\")\n",
      "\n",
      "prepareMultiTable(\"barrel\", \"BDT\")\n",
      "prepareMultiTable(\"endcaps\", \"BDT\")\n"
     ],
     "language": "python",
     "metadata": {},
     "outputs": [],
     "prompt_number": 9
    },
    {
     "cell_type": "heading",
     "level": 2,
     "metadata": {},
     "source": [
      "Extract number of entries in each tree (= number of candidates after preselection)"
     ]
    },
    {
     "cell_type": "code",
     "collapsed": false,
     "input": [
      "def numEvents(fileName, dirName = \"\"):\n",
      "    inputFile = TFile(fileName, \"READ\")\n",
      "    h = 0\n",
      "    if dirName != \"\":\n",
      "        h = inputFile.Get(dirName).Get(\"probe_tree\").GetEntries()\n",
      "    else:\n",
      "        h = inputFile.Get(\"probe_tree\").GetEntries()\n",
      "    # print fileName+\" entries = \"+str(h)\n",
      "    return h\n",
      "\n",
      "def writeSamples(region):\n",
      "    numEvents(region+\"_preselection.root\")\n",
      "    for index in range(0,3):\n",
      "        num = numEvents(region+\"_preselection_\"+str(index)+\".root\")\n",
      "        tableFile.write(str(num))\n",
      "        if index < 2:\n",
      "            tableFile.write(\" & \")\n",
      "        else:\n",
      "            tableFile.write(\" \\\\\\\\ \\n\")\n",
      "\n",
      "# Prepare table\n",
      "tableFile = open(tablesDir+\"numCandidates.txt\", \"w\")\n",
      "tableFile.write(\"\\\\begin{table} \\n\")\n",
      "tableFile.write(\"  \\\\begin{tabular}{|l|l|l|l|} \\n\")\n",
      "tableFile.write(\"    \\\\hline \\n\")\n",
      "tableFile.write(\"    Sample & Type 0 & Type 1 & Type 2 \\\\\\\\ \\n\")\n",
      "tableFile.write(\"    \\\\hline \\n\")\n",
      "\n",
      "# print \"Signal MC\"\n",
      "tableFile.write(\"    Signal barrel & \")\n",
      "writeSamples(\"BsMC12_barrel\")\n",
      "tableFile.write(\"    Signal endcaps & \")\n",
      "writeSamples(\"BsMC12_endcaps\")\n",
      "\n",
      "# print \"Sidebands data\"\n",
      "tableFile.write(\"    Background barrel & \")\n",
      "writeSamples(\"Barrel\")\n",
      "tableFile.write(\"    Background endcaps & \")\n",
      "writeSamples(\"Endcaps\")\n",
      "\n",
      "# Closing the table\n",
      "tableFile.write(\"    \\\\hline \\n\")\n",
      "tableFile.write(\"  \\\\end{tabular} \\n\")\n",
      "tableFile.write(\"  \\\\label{tab:numCandidates} \\n\")\n",
      "tableFile.write(\"  \\\\caption{Number of events per type for signal and background events in the barrel and endcap.} \\n\")\n",
      "tableFile.write(\"\\\\end{table} \\n\")\n",
      "tableFile.close()\n",
      "\n",
      "# This can be used to get the numbers for the full sample\n",
      "# num = numEvents(\"BsMC12_barrel_preselection.root\")\n",
      "# num = numEvents(\"BsMC12_endcaps_preselection.root\")\n",
      "# num = numEvents(\"Barrel_preselection.root\")\n",
      "# num = numEvents(\"Endcaps_preselection.root\")"
     ],
     "language": "python",
     "metadata": {},
     "outputs": [
      {
       "ename": "AttributeError",
       "evalue": "'TObject' object has no attribute 'GetEntries'",
       "output_type": "pyerr",
       "traceback": [
        "\u001b[0;31m---------------------------------------------------------------------------\u001b[0m\n\u001b[0;31mAttributeError\u001b[0m                            Traceback (most recent call last)",
        "\u001b[0;32m<ipython-input-10-2c2a070927bd>\u001b[0m in \u001b[0;36m<module>\u001b[0;34m()\u001b[0m\n\u001b[1;32m     35\u001b[0m \u001b[0;31m# print \"Sidebands data\"\u001b[0m\u001b[0;34m\u001b[0m\u001b[0;34m\u001b[0m\u001b[0m\n\u001b[1;32m     36\u001b[0m \u001b[0mtableFile\u001b[0m\u001b[0;34m.\u001b[0m\u001b[0mwrite\u001b[0m\u001b[0;34m(\u001b[0m\u001b[0;34m\"    Background barrel & \"\u001b[0m\u001b[0;34m)\u001b[0m\u001b[0;34m\u001b[0m\u001b[0m\n\u001b[0;32m---> 37\u001b[0;31m \u001b[0mwriteSamples\u001b[0m\u001b[0;34m(\u001b[0m\u001b[0;34m\"Barrel\"\u001b[0m\u001b[0;34m)\u001b[0m\u001b[0;34m\u001b[0m\u001b[0m\n\u001b[0m\u001b[1;32m     38\u001b[0m \u001b[0mtableFile\u001b[0m\u001b[0;34m.\u001b[0m\u001b[0mwrite\u001b[0m\u001b[0;34m(\u001b[0m\u001b[0;34m\"    Background endcaps & \"\u001b[0m\u001b[0;34m)\u001b[0m\u001b[0;34m\u001b[0m\u001b[0m\n\u001b[1;32m     39\u001b[0m \u001b[0mwriteSamples\u001b[0m\u001b[0;34m(\u001b[0m\u001b[0;34m\"Endcaps\"\u001b[0m\u001b[0;34m)\u001b[0m\u001b[0;34m\u001b[0m\u001b[0m\n",
        "\u001b[0;32m<ipython-input-10-2c2a070927bd>\u001b[0m in \u001b[0;36mwriteSamples\u001b[0;34m(region)\u001b[0m\n\u001b[1;32m     10\u001b[0m \u001b[0;34m\u001b[0m\u001b[0m\n\u001b[1;32m     11\u001b[0m \u001b[0;32mdef\u001b[0m \u001b[0mwriteSamples\u001b[0m\u001b[0;34m(\u001b[0m\u001b[0mregion\u001b[0m\u001b[0;34m)\u001b[0m\u001b[0;34m:\u001b[0m\u001b[0;34m\u001b[0m\u001b[0m\n\u001b[0;32m---> 12\u001b[0;31m     \u001b[0mnumEvents\u001b[0m\u001b[0;34m(\u001b[0m\u001b[0mregion\u001b[0m\u001b[0;34m+\u001b[0m\u001b[0;34m\"_preselection.root\"\u001b[0m\u001b[0;34m)\u001b[0m\u001b[0;34m\u001b[0m\u001b[0m\n\u001b[0m\u001b[1;32m     13\u001b[0m     \u001b[0;32mfor\u001b[0m \u001b[0mindex\u001b[0m \u001b[0;32min\u001b[0m \u001b[0mrange\u001b[0m\u001b[0;34m(\u001b[0m\u001b[0;36m0\u001b[0m\u001b[0;34m,\u001b[0m\u001b[0;36m3\u001b[0m\u001b[0;34m)\u001b[0m\u001b[0;34m:\u001b[0m\u001b[0;34m\u001b[0m\u001b[0m\n\u001b[1;32m     14\u001b[0m         \u001b[0mnum\u001b[0m \u001b[0;34m=\u001b[0m \u001b[0mnumEvents\u001b[0m\u001b[0;34m(\u001b[0m\u001b[0mregion\u001b[0m\u001b[0;34m+\u001b[0m\u001b[0;34m\"_preselection_\"\u001b[0m\u001b[0;34m+\u001b[0m\u001b[0mstr\u001b[0m\u001b[0;34m(\u001b[0m\u001b[0mindex\u001b[0m\u001b[0;34m)\u001b[0m\u001b[0;34m+\u001b[0m\u001b[0;34m\".root\"\u001b[0m\u001b[0;34m)\u001b[0m\u001b[0;34m\u001b[0m\u001b[0m\n",
        "\u001b[0;32m<ipython-input-10-2c2a070927bd>\u001b[0m in \u001b[0;36mnumEvents\u001b[0;34m(fileName, dirName)\u001b[0m\n\u001b[1;32m      5\u001b[0m         \u001b[0mh\u001b[0m \u001b[0;34m=\u001b[0m \u001b[0minputFile\u001b[0m\u001b[0;34m.\u001b[0m\u001b[0mGet\u001b[0m\u001b[0;34m(\u001b[0m\u001b[0mdirName\u001b[0m\u001b[0;34m)\u001b[0m\u001b[0;34m.\u001b[0m\u001b[0mGet\u001b[0m\u001b[0;34m(\u001b[0m\u001b[0;34m\"probe_tree\"\u001b[0m\u001b[0;34m)\u001b[0m\u001b[0;34m.\u001b[0m\u001b[0mGetEntries\u001b[0m\u001b[0;34m(\u001b[0m\u001b[0;34m)\u001b[0m\u001b[0;34m\u001b[0m\u001b[0m\n\u001b[1;32m      6\u001b[0m     \u001b[0;32melse\u001b[0m\u001b[0;34m:\u001b[0m\u001b[0;34m\u001b[0m\u001b[0m\n\u001b[0;32m----> 7\u001b[0;31m         \u001b[0mh\u001b[0m \u001b[0;34m=\u001b[0m \u001b[0minputFile\u001b[0m\u001b[0;34m.\u001b[0m\u001b[0mGet\u001b[0m\u001b[0;34m(\u001b[0m\u001b[0;34m\"probe_tree\"\u001b[0m\u001b[0;34m)\u001b[0m\u001b[0;34m.\u001b[0m\u001b[0mGetEntries\u001b[0m\u001b[0;34m(\u001b[0m\u001b[0;34m)\u001b[0m\u001b[0;34m\u001b[0m\u001b[0m\n\u001b[0m\u001b[1;32m      8\u001b[0m     \u001b[0;31m# print fileName+\" entries = \"+str(h)\u001b[0m\u001b[0;34m\u001b[0m\u001b[0;34m\u001b[0m\u001b[0m\n\u001b[1;32m      9\u001b[0m     \u001b[0;32mreturn\u001b[0m \u001b[0mh\u001b[0m\u001b[0;34m\u001b[0m\u001b[0m\n",
        "\u001b[0;31mAttributeError\u001b[0m: 'TObject' object has no attribute 'GetEntries'"
       ]
      },
      {
       "output_type": "stream",
       "stream": "stderr",
       "text": [
        "TFile::Init:0: RuntimeWarning: no StreamerInfo found in Barrel_preselection.root therefore preventing schema evolution when reading this file.\n"
       ]
      }
     ],
     "prompt_number": 10
    },
    {
     "cell_type": "heading",
     "level": 2,
     "metadata": {},
     "source": [
      "Extract the BDT control plots"
     ]
    },
    {
     "cell_type": "code",
     "collapsed": false,
     "input": [
      "from ROOT import TFile\n",
      "from ROOT import TH1F\n",
      "from ROOT import TCanvas\n",
      "from ROOT import TROOT\n",
      "\n",
      "# Remove the statbox\n",
      "TROOT.gStyle.SetOptStat(0);\n",
      "\n",
      "def saveBDTControlPlots(region):\n",
      "    inputFile = TFile(\"TMVA_\"+region+\".root\")\n",
      "    dir = inputFile.Get(\"Method_BDT\").Get(\"BDT\")\n",
      "    canvasBDT = TCanvas(\"BDTControlPlots\"+region, \"BDT control plots \"+region, 600, 500)\n",
      "    canvasBDT.Divide(1,3)\n",
      "    canvasBDT.cd(1)\n",
      "    histo1 = dir.Get(\"BoostWeightVsTree\")\n",
      "    histo1.SetLineColor(4)\n",
      "    histo1.Draw()\n",
      "    canvasBDT.cd(2)\n",
      "    histo2 = dir.Get(\"ErrFractHist\")\n",
      "    histo2.SetLineColor(4)\n",
      "    histo2.Draw()\n",
      "    canvasBDT.cd(3)\n",
      "    histo3 = dir.Get(\"NodesBeforePruning\")\n",
      "    histo3.SetLineColor(4)\n",
      "    histo3.Draw()\n",
      "    canvasBDT.SaveAs(figuresDir+\"BDTControlPlots_\"+region+\".pdf\")\n",
      "\n",
      "saveBDTControlPlots(\"barrel\")\n",
      "saveBDTControlPlots(\"endcaps\")"
     ],
     "language": "python",
     "metadata": {},
     "outputs": [],
     "prompt_number": 11
    },
    {
     "cell_type": "raw",
     "metadata": {},
     "source": [
      "Not clear where to get the information for the plots in figure 12 of the AN. Skipping them for now."
     ]
    },
    {
     "cell_type": "heading",
     "level": 2,
     "metadata": {},
     "source": [
      "Preselection efficiency and expected number of signal events after preselection"
     ]
    },
    {
     "cell_type": "raw",
     "metadata": {},
     "source": [
      "This is required in order to estimate the expected number of signal events. This number is used together with the estimate of the background in the TMVA to extract the maximum significance (using a S/sqrt(S+B) figure of merit) and obtain the cut value.\n",
      "An analyzer can run on the PATtuples and extract the number of events processed and those passing the filters. It saves these numbers in two histograms with a single bin in a root file.\n",
      "The following macro extracts these numbers."
     ]
    },
    {
     "cell_type": "code",
     "collapsed": false,
     "input": [
      "countersDir = \"Trees/BsMC/\"\n",
      "\n",
      "from ROOT import TFile\n",
      "from ROOT import TH1F\n",
      "\n",
      "# Bs->mumu branching ratio from SM (see e.g.: http://www.zora.uzh.ch/49239/1/1103.2465v2-1.pdf): (0.32 +/- 0.02)10^-8\n",
      "# Generated cross section 2082.8 with a filter efficiency of 0.002514 (see here: http://cms.cern.ch/iCMS/prep/requestmanagement?dsn=BsToMuMu_BsFilter_8TeV-pythia6-evtgen).\n",
      "# sigma = 2082.8\n",
      "# This sigma is taken from http://cms.cern.ch/iCMS/prep/requestmanagement?dsn=BsToMuMu_8TeV-pythia6-evtgen. This sample does not have BsFilter in the name, but the filter\n",
      "# efficiency is the same and the cross section is much smaller. Using this the numbers obtained are more in line with expectations.\n",
      "# NEED TO UNDERSTAND WICH ONE IS THE CORRECT CROSS SECTION\n",
      "# From the paper: http://cds.cern.ch/record/1360175/files/PhysRevD.84.052008.pdf?version=1 -> ~ Bs*B(Bs->J/psi phi) = 6.9 +/- 0.6 +/- 0.6 nb\n",
      "# From pdg B(Bs->J/psi phi) = (1.09 + 0.28 \u2212 0.23)*10^\u22123\n",
      "# And the expected B(Bs->mumu) = 0.32*10^-8\n",
      "# Thus the cross section x branching ratio of Bs->mumu at 7TeV is 6.9*0.32/1.09 * 10^-5 nb = 2.03 * 10^-5 nb = 2.03 * 10^-2 pb\n",
      "# THIS DOES NOT WORK\n",
      "\n",
      "\n",
      "# Another indication is coming from the MC sample. In table 3 of the reference AN the MC sample is stated to be equivalent to 7405.3/fb.\n",
      "# The number of entries in the MC file after all preselections (including trigger and muon-id) is of ~ 30000 for the barrel. When scaled\n",
      "# to the integrated luminosity of the data it agrees better with the values obtained with the 173.57/pb sigma value.\n",
      "\n",
      "\n",
      "# in /pb\n",
      "sigma = 173.57\n",
      "genFilterEff = 0.002514\n",
      "# in /pb\n",
      "runA = 805.116\n",
      "runARecover = 82.136\n",
      "runB = 4429.\n",
      "runC1 = 495.003\n",
      "runCEcalRecover = 134.242\n",
      "runC2 = 6397.\n",
      "runD = 7483.\n",
      "\n",
      "# Full 2012 data\n",
      "# integratedLuminosity = runA+runARecover+runB+runC1+runCEcalRecover+runC2+runD\n",
      "# Same data as reference AN\n",
      "integratedLuminosity = runA+runARecover+runB+runC1+runCEcalRecover+runC2\n",
      "\n",
      "expectedEvents = sigma*genFilterEff*integratedLuminosity\n",
      "\n",
      "print \"Generated cross section =\", sigma\n",
      "print \"Generator filter efficiency =\", genFilterEff\n",
      "print \"Integrated luminosity =\", integratedLuminosity\n",
      "print \"Expected events in \"+str(integratedLuminosity/1000.)+\"/fb =\", expectedEvents\n",
      "\n",
      "# Compute prefilter efficiency\n",
      "inputFile = TFile(countersDir+\"counters.root\")\n",
      "histoDir = inputFile.Get(\"counterReader\")\n",
      "totEvents = histoDir.Get(\"numProcessedEvents\").GetBinContent(1)\n",
      "prefilterEvents = histoDir.Get(\"numEventsPassingFilter\").GetBinContent(1)\n",
      "prefilterEfficiency = prefilterEvents/totEvents\n",
      "print \"processed events =\", int(totEvents)\n",
      "print \"events passing filters =\", int(prefilterEvents)\n",
      "print \"prefilter efficiency =\", prefilterEfficiency\n",
      "\n",
      "# Take number of signal events from tree before trigger and muon-id\n",
      "preselectedEvents = numEvents(\"Trees/BsMC/selection_test.root\", \"detailedDimuonTree\")\n",
      "selectedSignalBarrel = numEvents(\"BsMC12_barrel_preselection.root\")\n",
      "selectedSignalEndcaps = numEvents(\"BsMC12_endcaps_preselection.root\")\n",
      "effBarrel = selectedSignalBarrel/float(preselectedEvents)\n",
      "effEndcaps = selectedSignalEndcaps/float(preselectedEvents)\n",
      "print \"efficiency in the barrel after trigger and muon-id =\", effBarrel*prefilterEfficiency\n",
      "print \"efficiency in the endcaps after trigger and muon-id =\", effEndcaps*prefilterEfficiency\n",
      "\n",
      "expectedEventsAfterPrefilterOnly = expectedEvents*prefilterEfficiency\n",
      "expectedEventsBarrel = expectedEventsAfterPrefilterOnly*effBarrel\n",
      "expectedEventsEndcaps = expectedEventsAfterPrefilterOnly*effEndcaps\n",
      "\n",
      "print \"-----------------------------------------------------\"\n",
      "print \"Expected signal events in the barrel =\", expectedEventsBarrel\n",
      "print \"Expected signal events in the endcaps =\", expectedEventsEndcaps"
     ],
     "language": "python",
     "metadata": {},
     "outputs": [
      {
       "output_type": "stream",
       "stream": "stdout",
       "text": [
        "Generated cross section = 173.57\n",
        "Generator filter efficiency = 0.002514\n",
        "Integrated luminosity = 12342.497\n",
        "Expected events in 12.342497/fb = 5385.71003159\n",
        "processed events ="
       ]
      },
      {
       "output_type": "stream",
       "stream": "stdout",
       "text": [
        " 3187771\n",
        "events passing filters = 168817\n",
        "prefilter efficiency = 0.0529576936361\n",
        "efficiency in the barrel after trigger and muon-id ="
       ]
      },
      {
       "output_type": "stream",
       "stream": "stdout",
       "text": [
        " 0.00891653284327\n",
        "efficiency in the endcaps after trigger and muon-id = 0.00511561469521\n",
        "-----------------------------------------------------\n",
        "Expected signal events in the barrel = 48.021860381\n",
        "Expected signal events in the endcaps = 27.5512173817\n"
       ]
      }
     ],
     "prompt_number": 12
    },
    {
     "cell_type": "heading",
     "level": 2,
     "metadata": {},
     "source": [
      "Background estimation"
     ]
    },
    {
     "cell_type": "raw",
     "metadata": {},
     "source": [
      "To estimate the background take the number of events from the sidebands, average them, and normalize them to the area of the signal region."
     ]
    },
    {
     "cell_type": "code",
     "collapsed": false,
     "input": [
      "from ROOT import TROOT\n",
      "\n",
      "def estimateBackground(region):\n",
      "    inputFile = TFile(region+\"_preselection.root\")\n",
      "    inputDir = inputFile.Get(\"probe_tree\")\n",
      "    inputDir.Draw(\"mass>>mass\")\n",
      "    massPlot = TROOT.gROOT.FindObject(\"mass\")\n",
      "    # canvas = TCanvas()\n",
      "    # canvas.Draw()\n",
      "    lowSideband = massPlot.Integral(massPlot.FindBin(4.9), massPlot.FindBin(5.2))\n",
      "    lowSidebandWidth = 5.2-4.9\n",
      "    # highSideband = massPlot.Integral(massPlot.FindBin(5.45), massPlot.FindBin(5.9))\n",
      "    # highSidebandWidth = 5.9-5.45\n",
      "    highSideband = massPlot.Integral(massPlot.FindBin(5.45), massPlot.FindBin(5.75))\n",
      "    highSidebandWidth = 5.75-5.45\n",
      "\n",
      "    signalRegionWidth = 5.45-5.2\n",
      "\n",
      "    # print lowSideband, lowSidebandWidth\n",
      "    # print highSideband, highSidebandWidth\n",
      "\n",
      "    # print signalRegionWidth\n",
      "\n",
      "    # Estimate background events in the signal region\n",
      "    A = lowSideband\n",
      "    a = lowSidebandWidth\n",
      "    b = signalRegionWidth\n",
      "    C = highSideband\n",
      "    c = highSidebandWidth\n",
      "\n",
      "    # background = (A/a + C/c - (A+C)/(a+b+c))*b*(a+b+c)/(a+2*b+c)\n",
      "    background = b*(A+C)/(a+c)\n",
      "    # print A/a\n",
      "    # print C/c\n",
      "    # print background/b\n",
      "    print region+\" estimated background =\", background\n",
      "    return background\n",
      "\n",
      "estimatedBackgroundBarrel = estimateBackground(\"Barrel\")\n",
      "estimatedBackgroundEndcaps = estimateBackground(\"Endcaps\")"
     ],
     "language": "python",
     "metadata": {},
     "outputs": [
      {
       "ename": "ReferenceError",
       "evalue": "attempt to access a null-pointer",
       "output_type": "pyerr",
       "traceback": [
        "\u001b[0;31m---------------------------------------------------------------------------\u001b[0m\n\u001b[0;31mReferenceError\u001b[0m                            Traceback (most recent call last)",
        "\u001b[0;32m<ipython-input-13-636a9e0cbb8f>\u001b[0m in \u001b[0;36m<module>\u001b[0;34m()\u001b[0m\n\u001b[1;32m     37\u001b[0m     \u001b[0;32mreturn\u001b[0m \u001b[0mbackground\u001b[0m\u001b[0;34m\u001b[0m\u001b[0m\n\u001b[1;32m     38\u001b[0m \u001b[0;34m\u001b[0m\u001b[0m\n\u001b[0;32m---> 39\u001b[0;31m \u001b[0mestimatedBackgroundBarrel\u001b[0m \u001b[0;34m=\u001b[0m \u001b[0mestimateBackground\u001b[0m\u001b[0;34m(\u001b[0m\u001b[0;34m\"Barrel\"\u001b[0m\u001b[0;34m)\u001b[0m\u001b[0;34m\u001b[0m\u001b[0m\n\u001b[0m\u001b[1;32m     40\u001b[0m \u001b[0mestimatedBackgroundEndcaps\u001b[0m \u001b[0;34m=\u001b[0m \u001b[0mestimateBackground\u001b[0m\u001b[0;34m(\u001b[0m\u001b[0;34m\"Endcaps\"\u001b[0m\u001b[0;34m)\u001b[0m\u001b[0;34m\u001b[0m\u001b[0m\n",
        "\u001b[0;32m<ipython-input-13-636a9e0cbb8f>\u001b[0m in \u001b[0;36mestimateBackground\u001b[0;34m(region)\u001b[0m\n\u001b[1;32m      4\u001b[0m     \u001b[0minputFile\u001b[0m \u001b[0;34m=\u001b[0m \u001b[0mTFile\u001b[0m\u001b[0;34m(\u001b[0m\u001b[0mregion\u001b[0m\u001b[0;34m+\u001b[0m\u001b[0;34m\"_preselection.root\"\u001b[0m\u001b[0;34m)\u001b[0m\u001b[0;34m\u001b[0m\u001b[0m\n\u001b[1;32m      5\u001b[0m     \u001b[0minputDir\u001b[0m \u001b[0;34m=\u001b[0m \u001b[0minputFile\u001b[0m\u001b[0;34m.\u001b[0m\u001b[0mGet\u001b[0m\u001b[0;34m(\u001b[0m\u001b[0;34m\"probe_tree\"\u001b[0m\u001b[0;34m)\u001b[0m\u001b[0;34m\u001b[0m\u001b[0m\n\u001b[0;32m----> 6\u001b[0;31m     \u001b[0minputDir\u001b[0m\u001b[0;34m.\u001b[0m\u001b[0mDraw\u001b[0m\u001b[0;34m(\u001b[0m\u001b[0;34m\"mass>>mass\"\u001b[0m\u001b[0;34m)\u001b[0m\u001b[0;34m\u001b[0m\u001b[0m\n\u001b[0m\u001b[1;32m      7\u001b[0m     \u001b[0mmassPlot\u001b[0m \u001b[0;34m=\u001b[0m \u001b[0mTROOT\u001b[0m\u001b[0;34m.\u001b[0m\u001b[0mgROOT\u001b[0m\u001b[0;34m.\u001b[0m\u001b[0mFindObject\u001b[0m\u001b[0;34m(\u001b[0m\u001b[0;34m\"mass\"\u001b[0m\u001b[0;34m)\u001b[0m\u001b[0;34m\u001b[0m\u001b[0m\n\u001b[1;32m      8\u001b[0m     \u001b[0;31m# canvas = TCanvas()\u001b[0m\u001b[0;34m\u001b[0m\u001b[0;34m\u001b[0m\u001b[0m\n",
        "\u001b[0;31mReferenceError\u001b[0m: attempt to access a null-pointer"
       ]
      },
      {
       "output_type": "stream",
       "stream": "stderr",
       "text": [
        "TFile::Init:0: RuntimeWarning: no StreamerInfo found in Barrel_preselection.root therefore preventing schema evolution when reading this file.\n"
       ]
      }
     ],
     "prompt_number": 13
    },
    {
     "cell_type": "raw",
     "metadata": {},
     "source": [
      "With these signal and background estimated the best cuts are:\n",
      "- for the barrel 0.1361\n",
      "- for the endcaps 0.2163\n",
      "Extract the numbers for the optimal cut value. This requires the previous steps for signal and background estimates to have already run."
     ]
    },
    {
     "cell_type": "code",
     "collapsed": false,
     "input": [
      "import subprocess\n",
      "import os\n",
      "def optimalCutBDT(TMVAFileName, expectedSignalEvents, estimatedBackground):\n",
      "    p = subprocess.Popen([rootExecutable, \"-q\", \"-l\", \"mvaeffs.C(\\\"\"+TMVAFileName+\"\\\",\"+str(expectedSignalEvents)+\",\"+str(estimatedBackground)+\")\"], stdout=subprocess.PIPE, stderr=subprocess.PIPE)\n",
      "    out, err = p.communicate()\n",
      "    for line in out.splitlines():\n",
      "        if line.find(\"Classifier  \") != -1:\n",
      "            print line\n",
      "        if line.find(\"    BDT\") != -1:\n",
      "            print line\n",
      "            return line.split()[5]\n",
      "\n",
      "region = \"barrel\"\n",
      "print region.title()+\":\"\n",
      "optimalCutBarrel = optimalCutBDT(region, expectedEventsBarrel, estimatedBackgroundBarrel)\n",
      "os.system(\"mv mvaeffs_BDT_\"+region+\".pdf \"+figuresDir)\n",
      "region = \"endcaps\"\n",
      "print region.title()+\":\"\n",
      "optimalCutEndcaps = optimalCutBDT(region, expectedEventsEndcaps, estimatedBackgroundEndcaps)\n",
      "os.system(\"mv mvaeffs_BDT_\"+region+\".pdf \"+figuresDir)"
     ],
     "language": "python",
     "metadata": {},
     "outputs": [
      {
       "ename": "NameError",
       "evalue": "name 'estimatedBackgroundBarrel' is not defined",
       "output_type": "pyerr",
       "traceback": [
        "\u001b[0;31m---------------------------------------------------------------------------\u001b[0m\n\u001b[0;31mNameError\u001b[0m                                 Traceback (most recent call last)",
        "\u001b[0;32m<ipython-input-14-972356416bdd>\u001b[0m in \u001b[0;36m<module>\u001b[0;34m()\u001b[0m\n\u001b[1;32m     13\u001b[0m \u001b[0mregion\u001b[0m \u001b[0;34m=\u001b[0m \u001b[0;34m\"barrel\"\u001b[0m\u001b[0;34m\u001b[0m\u001b[0m\n\u001b[1;32m     14\u001b[0m \u001b[0;32mprint\u001b[0m \u001b[0mregion\u001b[0m\u001b[0;34m.\u001b[0m\u001b[0mtitle\u001b[0m\u001b[0;34m(\u001b[0m\u001b[0;34m)\u001b[0m\u001b[0;34m+\u001b[0m\u001b[0;34m\":\"\u001b[0m\u001b[0;34m\u001b[0m\u001b[0m\n\u001b[0;32m---> 15\u001b[0;31m \u001b[0moptimalCutBarrel\u001b[0m \u001b[0;34m=\u001b[0m \u001b[0moptimalCutBDT\u001b[0m\u001b[0;34m(\u001b[0m\u001b[0mregion\u001b[0m\u001b[0;34m,\u001b[0m \u001b[0mexpectedEventsBarrel\u001b[0m\u001b[0;34m,\u001b[0m \u001b[0mestimatedBackgroundBarrel\u001b[0m\u001b[0;34m)\u001b[0m\u001b[0;34m\u001b[0m\u001b[0m\n\u001b[0m\u001b[1;32m     16\u001b[0m \u001b[0mos\u001b[0m\u001b[0;34m.\u001b[0m\u001b[0msystem\u001b[0m\u001b[0;34m(\u001b[0m\u001b[0;34m\"mv mvaeffs_BDT_\"\u001b[0m\u001b[0;34m+\u001b[0m\u001b[0mregion\u001b[0m\u001b[0;34m+\u001b[0m\u001b[0;34m\".pdf \"\u001b[0m\u001b[0;34m+\u001b[0m\u001b[0mfiguresDir\u001b[0m\u001b[0;34m)\u001b[0m\u001b[0;34m\u001b[0m\u001b[0m\n\u001b[1;32m     17\u001b[0m \u001b[0mregion\u001b[0m \u001b[0;34m=\u001b[0m \u001b[0;34m\"endcaps\"\u001b[0m\u001b[0;34m\u001b[0m\u001b[0m\n",
        "\u001b[0;31mNameError\u001b[0m: name 'estimatedBackgroundBarrel' is not defined"
       ]
      },
      {
       "output_type": "stream",
       "stream": "stdout",
       "text": [
        "Barrel:\n"
       ]
      }
     ],
     "prompt_number": 14
    },
    {
     "cell_type": "raw",
     "metadata": {},
     "source": [
      "Extract the optimal BDT cuts for each BDT in the subsamples:\n",
      "- merge the TMVA output files for each BDT training\n",
      "- run the significance macro to extract the maximum significance\n",
      "Since the significance macro only uses the number of entries to recompute internally the efficiencies it is possible to merge the input files."
     ]
    },
    {
     "cell_type": "code",
     "collapsed": false,
     "input": [
      "# os.system(rootExecutable+\" -l -b -q mergeTMVAs.C\\(\\\\\\\"BDT\\\\\\\",\\\\\\\"barrel\\\\\\\"\")\n",
      "# os.system(rootExecutable+\" -b -q -l significance.C+\\(\\\\\\\"BDT\\\\\\\",\\\\\\\"barrel\\\\\\\",\\\\\\\"merged\\\\\\\",0\\)\")\n",
      "maxSigFile = open(\"maxsignificance_barrel.txt\")\n",
      "line = maxSigFile.readline()\n",
      "print line\n",
      "optimalCutBarrel = line.split()[4].split(\">\")[1]\n",
      "print \"optimal BDT cut barrel =\", optimalCutBarrel\n",
      "# os.system(rootExecutable+\" -l -b -q mergeTMVAs.C\\(\\\\\\\"BDT\\\\\\\",\\\\\\\"endcaps\\\\\\\"\")\n",
      "# os.system(rootExecutable+\" -b -q -l significance.C+\\(\\\\\\\"BDT\\\\\\\",\\\\\\\"endcaps\\\\\\\",\\\\\\\"merged\\\\\\\",0\\)\")\n",
      "maxSigFile = open(\"maxsignificance_endcaps.txt\")\n",
      "line = maxSigFile.readline()\n",
      "print line\n",
      "optimalCutEndcaps = line.split()[4].split(\">\")[1]\n",
      "print \"optimal BDT cut endcaps =\", optimalCutEndcaps"
     ],
     "language": "python",
     "metadata": {},
     "outputs": [
      {
       "output_type": "stream",
       "stream": "stdout",
       "text": [
        "barrel,  max. significance: 3.5, BDT>0.1330, #epsilon_{S}=0.416, #epsilon_{B}=0.0009\n",
        "optimal BDT cut barrel = 0.1330,\n",
        "endcaps,  max. significance: 2.1, BDT>0.1609, #epsilon_{S}=0.313, #epsilon_{B}=0.0005\n",
        "optimal BDT cut endcaps = 0.1609,\n"
       ]
      }
     ],
     "prompt_number": 48
    },
    {
     "cell_type": "heading",
     "level": 3,
     "metadata": {},
     "source": [
      "BDT Application Overlay Plots"
     ]
    },
    {
     "cell_type": "code",
     "collapsed": false,
     "input": [
      "# Change this to redo also the BDT application #\n",
      "# -------------------------------------------- #\n",
      "\n",
      "redoApplication = True\n",
      "\n",
      "# -------------------------------------------- #\n",
      "\n",
      "class TypeSettings:\n",
      "    def __init__(self, inputIndex, inputColor, inputOption):\n",
      "        self.index = inputIndex\n",
      "        self.color = inputColor\n",
      "        self.option = inputOption\n",
      "\n",
      "def drawAppBDTOutputPlots(region):\n",
      "    canvas = TCanvas(\"canvasMVA_BDT\"+region, \"canvasMVA_BDT\"+region)\n",
      "    stackBDT = THStack(\"ApplicationBDTOutput_\"+region, \"ApplicationBDTOutput_\"+region)\n",
      "    # histo = []\n",
      "    canvas.Draw()\n",
      "    # The loop plots only one histogram. Probably the others are removed or overwritten\n",
      "    # for plotType in [TypeSettings(\"\", 1, \"\"), TypeSettings(\"0\", 2, \"same\"), TypeSettings(\"1\", 3, \"same\"), TypeSettings(\"2\", 4, \"same\")]:\n",
      "    #     appFile = TFile(region+\"TMVApp\"+plotType.index+\".root\")\n",
      "    #     print plotType.option\n",
      "    #     histo.append(appFile.Get(\"MVA_BDT\").Clone(\"ApplicationBDTOutput_\"+region+plotType.index))\n",
      "    #     stackBDT.Add(histo[len(histo)-1])\n",
      "    #     # histo.Draw()\n",
      "    appFile = TFile(region+\"TMVApp.root\")\n",
      "    histo = appFile.Get(\"MVA_BDT\").Clone(\"ApplicationBDTOutput_\"+region)\n",
      "    histo.Scale(1/histo.GetEntries())\n",
      "    stackBDT.Add(histo)\n",
      "\n",
      "    appFile0 = TFile(region+\"TMVApp0.root\")\n",
      "    histo0 = appFile0.Get(\"MVA_BDT\").Clone(\"ApplicationBDTOutput_\"+region+\"0\")\n",
      "    histo0.SetLineColor(2)\n",
      "    histo0.Scale(1/histo0.GetEntries())\n",
      "    stackBDT.Add(histo0)\n",
      "\n",
      "    appFile1 = TFile(region+\"TMVApp1.root\")\n",
      "    histo1 = appFile1.Get(\"MVA_BDT\").Clone(\"ApplicationBDTOutput_\"+region+\"1\")\n",
      "    histo1.SetLineColor(8)\n",
      "    histo1.Scale(1/histo1.GetEntries())\n",
      "    stackBDT.Add(histo1)\n",
      "\n",
      "    appFile2 = TFile(region+\"TMVApp2.root\")\n",
      "    histo2 = appFile2.Get(\"MVA_BDT\").Clone(\"ApplicationBDTOutput_\"+region+\"2\")\n",
      "    histo2.SetLineColor(4)\n",
      "    histo2.Scale(1/histo2.GetEntries())\n",
      "    stackBDT.Add(histo2)\n",
      "\n",
      "    stackBDT.Draw(\"nostack\")\n",
      "\n",
      "    if region.find(\"BsMC\") != -1:\n",
      "        applicationBDTLegend = TLegend(0.2,0.7,0.5,0.9,\"\",\"brNDC\")\n",
      "        applicationBDTLegend.SetHeader(\"Bs MC \"+region.split(\"BsMC\")[1])\n",
      "    else:\n",
      "        applicationBDTLegend = TLegend(0.55,0.7,0.85,0.9,\"\",\"brNDC\")\n",
      "        applicationBDTLegend.SetHeader(region)\n",
      "    applicationBDTLegend.AddEntry(histo, \"Full sample\", \"l\")\n",
      "    applicationBDTLegend.AddEntry(histo0, \"Trained on 0, tested on 1, applied on 2\", \"l\")\n",
      "    applicationBDTLegend.AddEntry(histo1, \"Trained on 1, tested on 2, applied on 0\", \"l\")\n",
      "    applicationBDTLegend.AddEntry(histo2, \"Trained on 2, tested on 0, applied on 1\", \"l\")\n",
      "    applicationBDTLegend.Draw(\"same\")\n",
      "    applicationBDTLegend.SetFillColor(0)\n",
      "    applicationBDTLegend.SetLineColor(0)\n",
      "    canvas.SaveAs(figuresDir+\"ApplicationBDTOutput_\"+region+\".pdf\")\n",
      "\n",
      "if redoApplication:\n",
      "    # Barrel\n",
      "    # Applied on 2, trained on 0 (tested on 1)\n",
      "    applyBDT(\"Barrel_preselection_2.root\", \"BarrelTMVApp0.root\", \"barrel0Weights/\", optimalCutBarrel)\n",
      "    # Applied on 0, trained on 1 (tested on 2)\n",
      "    applyBDT(\"Barrel_preselection_0.root\", \"BarrelTMVApp1.root\", \"barrel1Weights/\", optimalCutBarrel)\n",
      "    # Applied on 1, trained on 2 (tested on 0)\n",
      "    applyBDT(\"Barrel_preselection_1.root\", \"BarrelTMVApp2.root\", \"barrel2Weights/\", optimalCutBarrel)\n",
      "\n",
      "    applyBDT(\"BsMC12_barrel_preselection.root\", \"BsMCBarrelTMVApp.root\", \"barrelWeights/\", optimalCutBarrel)\n",
      "    applyBDT(\"BsMC12_barrel_preselection_2.root\", \"BsMCBarrelTMVApp0.root\", \"barrel0Weights/\", optimalCutBarrel)\n",
      "    applyBDT(\"BsMC12_barrel_preselection_0.root\", \"BsMCBarrelTMVApp1.root\", \"barrel1Weights/\", optimalCutBarrel)\n",
      "    applyBDT(\"BsMC12_barrel_preselection_1.root\", \"BsMCBarrelTMVApp2.root\", \"barrel2Weights/\", optimalCutBarrel)\n",
      "\n",
      "    # Endcaps\n",
      "    # Applied on 2, trained on 0 (tested on 1)\n",
      "    applyBDT(\"Endcaps_preselection_2.root\", \"EndcapsTMVApp0.root\", \"endcaps0Weights/\", optimalCutEndcaps)\n",
      "    # Applied on 0, trained on 1 (tested on 2)\n",
      "    applyBDT(\"Endcaps_preselection_0.root\", \"EndcapsTMVApp1.root\", \"endcaps1Weights/\", optimalCutEndcaps)\n",
      "    # Applied on 1, trained on 2 (tested on 0)\n",
      "    applyBDT(\"Endcaps_preselection_1.root\", \"EndcapsTMVApp2.root\", \"endcaps2Weights/\", optimalCutEndcaps)\n",
      "\n",
      "    applyBDT(\"BsMC12_endcaps_preselection.root\", \"BsMCEndcapsTMVApp.root\", \"endcapsWeights/\", optimalCutEndcaps)\n",
      "    applyBDT(\"BsMC12_endcaps_preselection_2.root\", \"BsMCEndcapsTMVApp0.root\", \"endcaps0Weights/\", optimalCutEndcaps)\n",
      "    applyBDT(\"BsMC12_endcaps_preselection_0.root\", \"BsMCEndcapsTMVApp1.root\", \"endcaps1Weights/\", optimalCutEndcaps)\n",
      "    applyBDT(\"BsMC12_endcaps_preselection_1.root\", \"BsMCEndcapsTMVApp2.root\", \"endcaps2Weights/\", optimalCutEndcaps)\n",
      "\n",
      "\n",
      "drawAppBDTOutputPlots(\"Barrel\")\n",
      "drawAppBDTOutputPlots(\"BsMCBarrel\")\n",
      "drawAppBDTOutputPlots(\"Endcaps\")\n",
      "drawAppBDTOutputPlots(\"BsMCEndcaps\")\n"
     ],
     "language": "python",
     "metadata": {},
     "outputs": [],
     "prompt_number": 53
    },
    {
     "cell_type": "heading",
     "level": 2,
     "metadata": {},
     "source": [
      "Draw the mass plot combining the results of the three BDTs"
     ]
    },
    {
     "cell_type": "code",
     "collapsed": false,
     "input": [
      "import subprocess\n",
      "from ROOT import TLine\n",
      "from ROOT import TGraphErrors\n",
      "from array import array\n",
      "\n",
      "def drawMassPlot(region, plotType = \"\"):\n",
      "    # Take the histograms from each application\n",
      "    appFile0 = TFile(region+\"TMVApp0\"+plotType+\".root\")\n",
      "    appFile1 = TFile(region+\"TMVApp1\"+plotType+\".root\")\n",
      "    appFile2 = TFile(region+\"TMVApp2\"+plotType+\".root\")\n",
      "    histoMass0 = appFile0.Get(\"mass\")\n",
      "    histoMass1 = appFile1.Get(\"mass\")\n",
      "    histoMass2 = appFile2.Get(\"mass\")\n",
      "    histoMass = histoMass0.Clone(histoMass0.GetName()+\"_merged\")\n",
      "    histoMass.Add(histoMass1)\n",
      "    histoMass.Add(histoMass2)\n",
      "    # Draw the merged histogram\n",
      "    canvasMass = TCanvas(\"canvasMass\"+region, \"Mass \"+region)\n",
      "    canvasMass.Draw()\n",
      "    histoMass.Draw()\n",
      "    histoMass.GetYaxis().SetRangeUser(0, 10)\n",
      "    x = array(\"d\", [5.25])\n",
      "    y = array(\"d\", [0.6])\n",
      "    errX = array(\"d\", [0.05])\n",
      "    errY = array(\"d\", [0.])\n",
      "    line1 = TGraphErrors(1, x, y, errX, errY)\n",
      "    line1.Draw(\"E1\")\n",
      "    line1.SetLineColor(2)\n",
      "    line1.SetLineWidth(2)\n",
      "    line1.SetMarkerColor(2)\n",
      "    line1.SetMarkerSize(0)\n",
      "    x = array(\"d\", [5.375])\n",
      "    y = array(\"d\", [0.8])\n",
      "    errX = array(\"d\", [0.075])\n",
      "    errY = array(\"d\", [0.])\n",
      "    line2 = TGraphErrors(1, x, y, errX, errY)\n",
      "    line2.Draw(\"E1\")\n",
      "    line2.SetLineColor(4)\n",
      "    line2.SetLineWidth(2)\n",
      "    line2.SetMarkerColor(4)\n",
      "    line2.SetMarkerSize(0)\n",
      "    histoMass.GetXaxis().SetTitle(\"Mass [GeV/c^{2}]\")\n",
      "    histoMass.GetYaxis().SetTitle(\"Entries\")\n",
      "    massLegend = TLegend(0.5,0.7,0.8,0.9,\"\",\"brNDC\")\n",
      "    massLegend.SetHeader(region)\n",
      "    massLegend.AddEntry(line1, \"B^{0} Signal Region\", \"l\")\n",
      "    massLegend.AddEntry(line2, \"B^{0}_{s} Signal Region\", \"l\")\n",
      "    massLegend.Draw(\"same\")\n",
      "    massLegend.SetFillColor(0)\n",
      "    massLegend.SetLineColor(0)\n",
      "    canvasMass.SaveAs(figuresDir+region+\"MassPlot\"+plotType+\".pdf\")\n",
      "\n",
      "def drawVariablePlots(region, plotType = \"\"):\n",
      "    appFile0 = TFile(region+\"TMVApp0\"+plotType+\".root\")\n",
      "    appFile1 = TFile(region+\"TMVApp1\"+plotType+\".root\")\n",
      "    appFile2 = TFile(region+\"TMVApp2\"+plotType+\".root\")\n",
      "    for var in [\"pt\", \"eta\", \"fls3d\", \"alpha\", \"maxdoca\", \"pvip\", \"pvips\", \"iso\", \"docatrk\", \"closetrk\", \"chi2dof\"]:\n",
      "        canvas = TCanvas(\"canvas\"+var+region+plotType)\n",
      "        canvas.Draw()\n",
      "        varPlot = appFile0.Get(var).Clone(var+\"_merged\")\n",
      "        varPlot.Add(appFile1.Get(var))\n",
      "        varPlot.Add(appFile2.Get(var))\n",
      "        varPlot.Draw()\n",
      "        variablePdfFileName = \"AfterBDTCut_\"+var+\"_\"+region+plotType+\".pdf\"\n",
      "        canvas.SaveAs(figuresDir+variablePdfFileName)\n",
      "\n",
      "drawMassPlot(\"Barrel\")\n",
      "drawMassPlot(\"Endcaps\")\n",
      "drawVariablePlots(\"Barrel\")\n",
      "drawVariablePlots(\"Endcaps\")\n",
      "\n",
      "# Needs to be fixed. The split files are not available at the moment.\n",
      "# drawMassPlot(\"Barrel\", \"Unblinded\")\n",
      "# drawMassPlot(\"Endcaps\", \"Unblinded\")\n",
      "# drawVariablePlots(\"Barrel\", \"Unblinded\")\n",
      "# drawVariablePlots(\"Endcaps\", \"Unblinded\")\n"
     ],
     "language": "python",
     "metadata": {},
     "outputs": [
      {
       "output_type": "stream",
       "stream": "stderr",
       "text": [
        "TCanvas::Constructor:0: RuntimeWarning: Deleting canvas with same name: canvasptBarrel\n"
       ]
      }
     ],
     "prompt_number": 60
    },
    {
     "cell_type": "heading",
     "level": 2,
     "metadata": {},
     "source": [
      "Variable Comparison Plots"
     ]
    },
    {
     "cell_type": "code",
     "collapsed": false,
     "input": [
      "os.system(\"./Common/RunAllComp.sh Common \"+rootExecutable)\n",
      "os.system(\"./Common/RunAllComp_3h.sh Common \"+rootExecutable)\n",
      "os.system(\"./runMvas.sh\")"
     ],
     "language": "python",
     "metadata": {},
     "outputs": [
      {
       "output_type": "pyout",
       "prompt_number": 12,
       "text": [
        "0"
       ]
      }
     ],
     "prompt_number": 12
    },
    {
     "cell_type": "code",
     "collapsed": false,
     "input": [],
     "language": "python",
     "metadata": {},
     "outputs": []
    }
   ],
   "metadata": {}
  }
 ]
}